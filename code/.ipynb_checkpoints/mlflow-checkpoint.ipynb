{
 "cells": [
  {
   "cell_type": "code",
   "execution_count": 23,
   "metadata": {},
   "outputs": [],
   "source": [
    "# Wine Quality Sample\n",
    "def train(in_n_estimators):\n",
    "    import os\n",
    "    import warnings\n",
    "    import sys\n",
    "\n",
    "    import pandas as pd\n",
    "    import numpy as np\n",
    "    from sklearn.metrics import mean_squared_error, mean_absolute_error, r2_score\n",
    "    from sklearn.model_selection import train_test_split\n",
    "    from sklearn.linear_model import ElasticNet\n",
    "\n",
    "    import mlflow\n",
    "    import mlflow.sklearn\n",
    "    \n",
    "    import pandas as pd\n",
    "    import lightgbm as gbm\n",
    "    from lightgbm.sklearn import LGBMClassifier\n",
    "    from sklearn.model_selection import train_test_split\n",
    "    from sklearn.metrics import accuracy_score\n",
    "\n",
    "\n",
    "    warnings.filterwarnings(\"ignore\")\n",
    "    np.random.seed(40)\n",
    "    \n",
    "    \n",
    "    #データ読み込み\n",
    "    train = pd.read_csv(\"../feature/train_feature.csv\")\n",
    "    \n",
    "    target = train[\"Survived\"]\n",
    "    train = train.drop(\"Survived\",axis=1)\n",
    "    \n",
    "    #データ分割\n",
    "    X_train, X_test, y_train, y_test = train_test_split(train, target, test_size=0.2, random_state=42)\n",
    "    \n",
    "\n",
    "    # Set default values if no alpha is provided\n",
    "    if int(in_n_estimators) is None:\n",
    "        n_estimators = 100\n",
    "    else:\n",
    "        n_estimators = int(in_n_estimators)\n",
    "\n",
    "\n",
    "\n",
    "    # Useful for multiple runs (only doing one run in this sample notebook)    \n",
    "    with mlflow.start_run():\n",
    "        # model学習\n",
    "        model = gbm.LGBMClassifier(n_estimators=n_estimators)\n",
    "        model.fit(X_train, y_train)\n",
    "\n",
    "        # 予測\n",
    "        predict = model.predict(X_test)\n",
    "        acc = accuracy_score(predict, y_test)\n",
    "\n",
    "        # Print out metrics\n",
    "        print(\"lightgbm model (n_estimators=%f):\" % (n_estimators))\n",
    "        print(\"  accuracy: %s\" % acc)\n",
    "\n",
    "\n",
    "        # Log parameter, metrics, and model to MLflow\n",
    "        mlflow.log_param(\"estimators\", n_estimators)\n",
    "\n",
    "        mlflow.log_metric(\"accracy\", acc)\n",
    "\n",
    "        mlflow.sklearn.log_model(model, \"model\")\n",
    "        \n",
    "    return acc"
   ]
  },
  {
   "cell_type": "code",
   "execution_count": 24,
   "metadata": {},
   "outputs": [
    {
     "name": "stdout",
     "output_type": "stream",
     "text": [
      "lightgbm model (n_estimators=1000.000000):\n",
      "  accuracy: 0.7486033519553073\n"
     ]
    },
    {
     "data": {
      "text/plain": [
       "0.7486033519553073"
      ]
     },
     "execution_count": 24,
     "metadata": {},
     "output_type": "execute_result"
    }
   ],
   "source": [
    "train(1000)\n"
   ]
  },
  {
   "cell_type": "code",
   "execution_count": null,
   "metadata": {},
   "outputs": [],
   "source": []
  },
  {
   "cell_type": "markdown",
   "metadata": {},
   "source": [
    "# Gridsearchの結果を保存\n"
   ]
  },
  {
   "cell_type": "code",
   "execution_count": 25,
   "metadata": {},
   "outputs": [
    {
     "name": "stdout",
     "output_type": "stream",
     "text": [
      "lightgbm model (n_estimators=10.000000):\n",
      "  accuracy: 0.7877094972067039\n",
      "lightgbm model (n_estimators=20.000000):\n",
      "  accuracy: 0.7988826815642458\n",
      "lightgbm model (n_estimators=40.000000):\n",
      "  accuracy: 0.7988826815642458\n",
      "lightgbm model (n_estimators=80.000000):\n",
      "  accuracy: 0.7932960893854749\n",
      "lightgbm model (n_estimators=160.000000):\n",
      "  accuracy: 0.7597765363128491\n"
     ]
    }
   ],
   "source": [
    "n_samples_list = [10,20,40,80,160]\n",
    "\n",
    "for n_samples in n_samples_list:\n",
    "    train(n_samples)"
   ]
  },
  {
   "cell_type": "markdown",
   "metadata": {},
   "source": [
    "# train関数の中でCVする"
   ]
  },
  {
   "cell_type": "code",
   "execution_count": 10,
   "metadata": {},
   "outputs": [],
   "source": [
    "def train(in_n_estimators):\n",
    "    import os\n",
    "    import warnings\n",
    "    import sys\n",
    "\n",
    "    import pandas as pd\n",
    "    import numpy as np\n",
    "    from sklearn.metrics import mean_squared_error, mean_absolute_error, r2_score\n",
    "    from sklearn.model_selection import train_test_split\n",
    "    from sklearn.linear_model import ElasticNet\n",
    "\n",
    "    import mlflow\n",
    "    import mlflow.sklearn\n",
    "    \n",
    "    import pandas as pd\n",
    "    import lightgbm as gbm\n",
    "    from lightgbm.sklearn import LGBMClassifier\n",
    "    from sklearn.model_selection import train_test_split\n",
    "    from sklearn.metrics import accuracy_score\n",
    "    from sklearn.model_selection import GridSearchCV\n",
    "    from sklearn.model_selection import cross_validate\n",
    "\n",
    "    warnings.filterwarnings(\"ignore\")\n",
    "    np.random.seed(40)\n",
    "    \n",
    "    \n",
    "    #データ読み込み\n",
    "    train = pd.read_csv(\"../feature/train_feature.csv\")\n",
    "    \n",
    "    target = train[\"Survived\"]\n",
    "    train = train.drop(\"Survived\",axis=1)\n",
    "    train= train.drop(\"PassengerId\", axis=1)\n",
    "    \n",
    "    #データ分割\n",
    "    X_train, X_test, y_train, y_test = train_test_split(train, target, test_size=0.2, random_state=42)\n",
    "    \n",
    "\n",
    "    # Set default values if no alpha is provided\n",
    "    if int(in_n_estimators) is None:\n",
    "        n_estimators = 100\n",
    "    else:\n",
    "        n_estimators = int(in_n_estimators)\n",
    "\n",
    "\n",
    "\n",
    "    # Useful for multiple runs (only doing one run in this sample notebook)    \n",
    "    with mlflow.start_run():\n",
    "        # model学習\n",
    "        model = gbm.LGBMClassifier(n_estimators=n_estimators)\n",
    "        \n",
    "        #cv\n",
    "        cv_results = cross_validate(model, X_train, y_train, cv =5, return_train_score=True, scoring = \"accuracy\")\n",
    "\n",
    "        train_score_mean = cv_results[\"train_score\"].mean()\n",
    "        test_score_mean = cv_results[\"test_score\"].mean()\n",
    "\n",
    "        # Print out metrics\n",
    "        print(\"lightgbm model (n_estimators=%f):\" % (n_estimators))\n",
    "        print(\"train mean accuracy: %s\" % train_score_mean)\n",
    "        print(\"test mean accuracy: %s\" % test_score_mean)\n",
    "\n",
    "\n",
    "        # Log parameter, metrics, and model to MLflow\n",
    "        mlflow.log_param(\"estimators\", n_estimators)\n",
    "        \n",
    "        mlflow.log_metric(\"train_mean_accracy\", train_score_mean)\n",
    "        mlflow.log_metric(\"test_mean_accracy\", test_score_mean)\n",
    "\n",
    "        mlflow.sklearn.log_model(model, \"model\")\n",
    "        \n",
    "    return test_score_mean\n"
   ]
  },
  {
   "cell_type": "markdown",
   "metadata": {},
   "source": [
    "# optunaでパラメータ探索"
   ]
  },
  {
   "cell_type": "code",
   "execution_count": 11,
   "metadata": {},
   "outputs": [],
   "source": [
    "def objective(trial):\n",
    "\n",
    "\n",
    "    n_estimators = trial.suggest_int('n_estimators', 1,1000)\n",
    "    \n",
    "    score = train(n_estimators)\n",
    "\n",
    "    return 1.0 - score"
   ]
  },
  {
   "cell_type": "code",
   "execution_count": 12,
   "metadata": {},
   "outputs": [
    {
     "name": "stdout",
     "output_type": "stream",
     "text": [
      "INFO: 'n_estimators' does not exist. Creating a new experiment\n",
      "lightgbm model (n_estimators=266.000000):\n",
      "train mean accuracy: 0.8735995645178368\n",
      "test mean accuracy: 0.814613016590841\n"
     ]
    },
    {
     "name": "stderr",
     "output_type": "stream",
     "text": [
      "[I 2018-12-22 16:22:10,070] Finished a trial resulted in value: 0.18538698340915905. Current best value is 0.18538698340915905 with parameters: {'n_estimators': 266}.\n"
     ]
    },
    {
     "name": "stdout",
     "output_type": "stream",
     "text": [
      "lightgbm model (n_estimators=126.000000):\n",
      "train mean accuracy: 0.8690344567539829\n",
      "test mean accuracy: 0.8104172123950368\n"
     ]
    },
    {
     "name": "stderr",
     "output_type": "stream",
     "text": [
      "[I 2018-12-22 16:22:10,444] Finished a trial resulted in value: 0.18958278760496317. Current best value is 0.18538698340915905 with parameters: {'n_estimators': 266}.\n"
     ]
    },
    {
     "name": "stdout",
     "output_type": "stream",
     "text": [
      "lightgbm model (n_estimators=997.000000):\n",
      "train mean accuracy: 0.8739498272148596\n",
      "test mean accuracy: 0.8076001712801233\n"
     ]
    },
    {
     "name": "stderr",
     "output_type": "stream",
     "text": [
      "[I 2018-12-22 16:22:12,296] Finished a trial resulted in value: 0.1923998287198767. Current best value is 0.18538698340915905 with parameters: {'n_estimators': 266}.\n"
     ]
    },
    {
     "name": "stdout",
     "output_type": "stream",
     "text": [
      "lightgbm model (n_estimators=528.000000):\n",
      "train mean accuracy: 0.8739498272148596\n",
      "test mean accuracy: 0.8132044261801529\n"
     ]
    },
    {
     "name": "stderr",
     "output_type": "stream",
     "text": [
      "[I 2018-12-22 16:22:13,310] Finished a trial resulted in value: 0.18679557381984713. Current best value is 0.18538698340915905 with parameters: {'n_estimators': 266}.\n"
     ]
    },
    {
     "name": "stdout",
     "output_type": "stream",
     "text": [
      "lightgbm model (n_estimators=321.000000):\n",
      "train mean accuracy: 0.8735995645178368\n",
      "test mean accuracy: 0.8132144151922395\n"
     ]
    },
    {
     "name": "stderr",
     "output_type": "stream",
     "text": [
      "[I 2018-12-22 16:22:14,314] Finished a trial resulted in value: 0.18678558480776053. Current best value is 0.18538698340915905 with parameters: {'n_estimators': 266}.\n"
     ]
    },
    {
     "name": "stdout",
     "output_type": "stream",
     "text": [
      "lightgbm model (n_estimators=370.000000):\n",
      "train mean accuracy: 0.8735995645178368\n",
      "test mean accuracy: 0.8132144151922395\n"
     ]
    },
    {
     "name": "stderr",
     "output_type": "stream",
     "text": [
      "[I 2018-12-22 16:22:15,069] Finished a trial resulted in value: 0.18678558480776053. Current best value is 0.18538698340915905 with parameters: {'n_estimators': 266}.\n"
     ]
    },
    {
     "name": "stdout",
     "output_type": "stream",
     "text": [
      "lightgbm model (n_estimators=124.000000):\n",
      "train mean accuracy: 0.8690344567539829\n",
      "test mean accuracy: 0.8104172123950368\n"
     ]
    },
    {
     "name": "stderr",
     "output_type": "stream",
     "text": [
      "[I 2018-12-22 16:22:15,563] Finished a trial resulted in value: 0.18958278760496317. Current best value is 0.18538698340915905 with parameters: {'n_estimators': 266}.\n"
     ]
    },
    {
     "name": "stdout",
     "output_type": "stream",
     "text": [
      "lightgbm model (n_estimators=157.000000):\n",
      "train mean accuracy: 0.8711403408875839\n",
      "test mean accuracy: 0.810407363089413\n"
     ]
    },
    {
     "name": "stderr",
     "output_type": "stream",
     "text": [
      "[I 2018-12-22 16:22:16,006] Finished a trial resulted in value: 0.18959263691058703. Current best value is 0.18538698340915905 with parameters: {'n_estimators': 266}.\n"
     ]
    },
    {
     "name": "stdout",
     "output_type": "stream",
     "text": [
      "lightgbm model (n_estimators=986.000000):\n",
      "train mean accuracy: 0.8739498272148596\n",
      "test mean accuracy: 0.8062015698815219\n"
     ]
    },
    {
     "name": "stderr",
     "output_type": "stream",
     "text": [
      "[I 2018-12-22 16:22:17,803] Finished a trial resulted in value: 0.19379843011847808. Current best value is 0.18538698340915905 with parameters: {'n_estimators': 266}.\n"
     ]
    },
    {
     "name": "stdout",
     "output_type": "stream",
     "text": [
      "lightgbm model (n_estimators=734.000000):\n",
      "train mean accuracy: 0.8739498272148596\n",
      "test mean accuracy: 0.8117959754759274\n"
     ]
    },
    {
     "name": "stderr",
     "output_type": "stream",
     "text": [
      "[I 2018-12-22 16:22:19,211] Finished a trial resulted in value: 0.1882040245240726. Current best value is 0.18538698340915905 with parameters: {'n_estimators': 266}.\n"
     ]
    },
    {
     "name": "stdout",
     "output_type": "stream",
     "text": [
      "lightgbm model (n_estimators=497.000000):\n",
      "train mean accuracy: 0.8739498272148596\n",
      "test mean accuracy: 0.8117959754759274\n"
     ]
    },
    {
     "name": "stderr",
     "output_type": "stream",
     "text": [
      "[I 2018-12-22 16:22:20,142] Finished a trial resulted in value: 0.1882040245240726. Current best value is 0.18538698340915905 with parameters: {'n_estimators': 266}.\n"
     ]
    },
    {
     "name": "stdout",
     "output_type": "stream",
     "text": [
      "lightgbm model (n_estimators=926.000000):\n",
      "train mean accuracy: 0.8739498272148596\n",
      "test mean accuracy: 0.8089987726787248\n"
     ]
    },
    {
     "name": "stderr",
     "output_type": "stream",
     "text": [
      "[I 2018-12-22 16:22:22,536] Finished a trial resulted in value: 0.19100122732127522. Current best value is 0.18538698340915905 with parameters: {'n_estimators': 266}.\n"
     ]
    },
    {
     "name": "stdout",
     "output_type": "stream",
     "text": [
      "lightgbm model (n_estimators=882.000000):\n",
      "train mean accuracy: 0.8739498272148596\n",
      "test mean accuracy: 0.8076001712801233\n"
     ]
    },
    {
     "name": "stderr",
     "output_type": "stream",
     "text": [
      "[I 2018-12-22 16:22:24,162] Finished a trial resulted in value: 0.1923998287198767. Current best value is 0.18538698340915905 with parameters: {'n_estimators': 266}.\n"
     ]
    },
    {
     "name": "stdout",
     "output_type": "stream",
     "text": [
      "lightgbm model (n_estimators=9.000000):\n",
      "train mean accuracy: 0.825488637953506\n",
      "test mean accuracy: 0.8048132369079328\n"
     ]
    },
    {
     "name": "stderr",
     "output_type": "stream",
     "text": [
      "[I 2018-12-22 16:22:24,336] Finished a trial resulted in value: 0.19518676309206717. Current best value is 0.18538698340915905 with parameters: {'n_estimators': 266}.\n"
     ]
    },
    {
     "name": "stdout",
     "output_type": "stream",
     "text": [
      "lightgbm model (n_estimators=74.000000):\n",
      "train mean accuracy: 0.8599036245703996\n",
      "test mean accuracy: 0.8146128768843782\n"
     ]
    },
    {
     "name": "stderr",
     "output_type": "stream",
     "text": [
      "[I 2018-12-22 16:22:24,609] Finished a trial resulted in value: 0.18538712311562178. Current best value is 0.18538698340915905 with parameters: {'n_estimators': 266}.\n"
     ]
    },
    {
     "name": "stdout",
     "output_type": "stream",
     "text": [
      "lightgbm model (n_estimators=257.000000):\n",
      "train mean accuracy: 0.8735995645178368\n",
      "test mean accuracy: 0.814613016590841\n"
     ]
    },
    {
     "name": "stderr",
     "output_type": "stream",
     "text": [
      "[I 2018-12-22 16:22:25,366] Finished a trial resulted in value: 0.18538698340915905. Current best value is 0.18538698340915905 with parameters: {'n_estimators': 266}.\n"
     ]
    },
    {
     "name": "stdout",
     "output_type": "stream",
     "text": [
      "lightgbm model (n_estimators=491.000000):\n",
      "train mean accuracy: 0.8739498272148596\n",
      "test mean accuracy: 0.8117959754759274\n"
     ]
    },
    {
     "name": "stderr",
     "output_type": "stream",
     "text": [
      "[I 2018-12-22 16:22:26,390] Finished a trial resulted in value: 0.1882040245240726. Current best value is 0.18538698340915905 with parameters: {'n_estimators': 266}.\n"
     ]
    },
    {
     "name": "stdout",
     "output_type": "stream",
     "text": [
      "lightgbm model (n_estimators=41.000000):\n",
      "train mean accuracy: 0.8497189274961185\n",
      "test mean accuracy: 0.8117959754759274\n"
     ]
    },
    {
     "name": "stderr",
     "output_type": "stream",
     "text": [
      "[I 2018-12-22 16:22:26,613] Finished a trial resulted in value: 0.1882040245240726. Current best value is 0.18538698340915905 with parameters: {'n_estimators': 266}.\n"
     ]
    },
    {
     "name": "stdout",
     "output_type": "stream",
     "text": [
      "lightgbm model (n_estimators=503.000000):\n",
      "train mean accuracy: 0.8739498272148596\n",
      "test mean accuracy: 0.8117959754759274\n"
     ]
    },
    {
     "name": "stderr",
     "output_type": "stream",
     "text": [
      "[I 2018-12-22 16:22:28,024] Finished a trial resulted in value: 0.1882040245240726. Current best value is 0.18538698340915905 with parameters: {'n_estimators': 266}.\n"
     ]
    },
    {
     "name": "stdout",
     "output_type": "stream",
     "text": [
      "lightgbm model (n_estimators=421.000000):\n",
      "train mean accuracy: 0.8739498272148596\n",
      "test mean accuracy: 0.8117959754759274\n"
     ]
    },
    {
     "name": "stderr",
     "output_type": "stream",
     "text": [
      "[I 2018-12-22 16:22:30,389] Finished a trial resulted in value: 0.1882040245240726. Current best value is 0.18538698340915905 with parameters: {'n_estimators': 266}.\n"
     ]
    },
    {
     "name": "stdout",
     "output_type": "stream",
     "text": [
      "lightgbm model (n_estimators=372.000000):\n",
      "train mean accuracy: 0.8735995645178368\n",
      "test mean accuracy: 0.8132144151922395\n"
     ]
    },
    {
     "name": "stderr",
     "output_type": "stream",
     "text": [
      "[I 2018-12-22 16:22:33,072] Finished a trial resulted in value: 0.18678558480776053. Current best value is 0.18538698340915905 with parameters: {'n_estimators': 266}.\n"
     ]
    },
    {
     "name": "stdout",
     "output_type": "stream",
     "text": [
      "lightgbm model (n_estimators=529.000000):\n",
      "train mean accuracy: 0.8739498272148596\n",
      "test mean accuracy: 0.8132044261801529\n"
     ]
    },
    {
     "name": "stderr",
     "output_type": "stream",
     "text": [
      "[I 2018-12-22 16:22:34,620] Finished a trial resulted in value: 0.18679557381984713. Current best value is 0.18538698340915905 with parameters: {'n_estimators': 266}.\n"
     ]
    },
    {
     "name": "stdout",
     "output_type": "stream",
     "text": [
      "lightgbm model (n_estimators=357.000000):\n",
      "train mean accuracy: 0.8735995645178368\n",
      "test mean accuracy: 0.8132144151922395\n"
     ]
    },
    {
     "name": "stderr",
     "output_type": "stream",
     "text": [
      "[I 2018-12-22 16:22:35,585] Finished a trial resulted in value: 0.18678558480776053. Current best value is 0.18538698340915905 with parameters: {'n_estimators': 266}.\n"
     ]
    },
    {
     "name": "stdout",
     "output_type": "stream",
     "text": [
      "lightgbm model (n_estimators=240.000000):\n",
      "train mean accuracy: 0.8728965768201217\n",
      "test mean accuracy: 0.8160116179894423\n"
     ]
    },
    {
     "name": "stderr",
     "output_type": "stream",
     "text": [
      "[I 2018-12-22 16:22:36,246] Finished a trial resulted in value: 0.18398838201055767. Current best value is 0.18398838201055767 with parameters: {'n_estimators': 240}.\n"
     ]
    },
    {
     "name": "stdout",
     "output_type": "stream",
     "text": [
      "lightgbm model (n_estimators=396.000000):\n",
      "train mean accuracy: 0.8739498272148596\n",
      "test mean accuracy: 0.8132044261801529\n"
     ]
    },
    {
     "name": "stderr",
     "output_type": "stream",
     "text": [
      "[I 2018-12-22 16:22:37,050] Finished a trial resulted in value: 0.18679557381984713. Current best value is 0.18398838201055767 with parameters: {'n_estimators': 240}.\n"
     ]
    },
    {
     "name": "stdout",
     "output_type": "stream",
     "text": [
      "lightgbm model (n_estimators=55.000000):\n",
      "train mean accuracy: 0.8549833273422678\n",
      "test mean accuracy: 0.8131845878624422\n"
     ]
    },
    {
     "name": "stderr",
     "output_type": "stream",
     "text": [
      "[I 2018-12-22 16:22:37,330] Finished a trial resulted in value: 0.1868154121375578. Current best value is 0.18398838201055767 with parameters: {'n_estimators': 240}.\n"
     ]
    },
    {
     "name": "stdout",
     "output_type": "stream",
     "text": [
      "lightgbm model (n_estimators=345.000000):\n",
      "train mean accuracy: 0.8735995645178368\n",
      "test mean accuracy: 0.814613016590841\n"
     ]
    },
    {
     "name": "stderr",
     "output_type": "stream",
     "text": [
      "[I 2018-12-22 16:22:38,066] Finished a trial resulted in value: 0.18538698340915905. Current best value is 0.18398838201055767 with parameters: {'n_estimators': 240}.\n"
     ]
    },
    {
     "name": "stdout",
     "output_type": "stream",
     "text": [
      "lightgbm model (n_estimators=364.000000):\n",
      "train mean accuracy: 0.8735995645178368\n",
      "test mean accuracy: 0.8146228658964649\n"
     ]
    },
    {
     "name": "stderr",
     "output_type": "stream",
     "text": [
      "[I 2018-12-22 16:22:38,825] Finished a trial resulted in value: 0.18537713410353507. Current best value is 0.18398838201055767 with parameters: {'n_estimators': 240}.\n"
     ]
    },
    {
     "name": "stdout",
     "output_type": "stream",
     "text": [
      "lightgbm model (n_estimators=123.000000):\n",
      "train mean accuracy: 0.8690344567539829\n",
      "test mean accuracy: 0.8104172123950368\n"
     ]
    },
    {
     "name": "stderr",
     "output_type": "stream",
     "text": [
      "[I 2018-12-22 16:22:39,163] Finished a trial resulted in value: 0.18958278760496317. Current best value is 0.18398838201055767 with parameters: {'n_estimators': 240}.\n"
     ]
    },
    {
     "name": "stdout",
     "output_type": "stream",
     "text": [
      "lightgbm model (n_estimators=575.000000):\n",
      "train mean accuracy: 0.8739498272148596\n",
      "test mean accuracy: 0.8132044261801529\n"
     ]
    },
    {
     "name": "stderr",
     "output_type": "stream",
     "text": [
      "[I 2018-12-22 16:22:40,191] Finished a trial resulted in value: 0.18679557381984713. Current best value is 0.18398838201055767 with parameters: {'n_estimators': 240}.\n"
     ]
    },
    {
     "name": "stdout",
     "output_type": "stream",
     "text": [
      "lightgbm model (n_estimators=546.000000):\n",
      "train mean accuracy: 0.8739498272148596\n",
      "test mean accuracy: 0.8132044261801529\n"
     ]
    },
    {
     "name": "stderr",
     "output_type": "stream",
     "text": [
      "[I 2018-12-22 16:22:41,498] Finished a trial resulted in value: 0.18679557381984713. Current best value is 0.18398838201055767 with parameters: {'n_estimators': 240}.\n"
     ]
    },
    {
     "name": "stdout",
     "output_type": "stream",
     "text": [
      "lightgbm model (n_estimators=201.000000):\n",
      "train mean accuracy: 0.8721942057782816\n",
      "test mean accuracy: 0.8132144151922395\n"
     ]
    },
    {
     "name": "stderr",
     "output_type": "stream",
     "text": [
      "[I 2018-12-22 16:22:41,955] Finished a trial resulted in value: 0.18678558480776053. Current best value is 0.18398838201055767 with parameters: {'n_estimators': 240}.\n"
     ]
    },
    {
     "name": "stdout",
     "output_type": "stream",
     "text": [
      "lightgbm model (n_estimators=869.000000):\n",
      "train mean accuracy: 0.8739498272148596\n",
      "test mean accuracy: 0.8076001712801233\n"
     ]
    },
    {
     "name": "stderr",
     "output_type": "stream",
     "text": [
      "[I 2018-12-22 16:22:43,966] Finished a trial resulted in value: 0.1923998287198767. Current best value is 0.18398838201055767 with parameters: {'n_estimators': 240}.\n"
     ]
    },
    {
     "name": "stdout",
     "output_type": "stream",
     "text": [
      "lightgbm model (n_estimators=975.000000):\n",
      "train mean accuracy: 0.8739498272148596\n",
      "test mean accuracy: 0.8076001712801233\n"
     ]
    },
    {
     "name": "stderr",
     "output_type": "stream",
     "text": [
      "[I 2018-12-22 16:22:46,367] Finished a trial resulted in value: 0.1923998287198767. Current best value is 0.18398838201055767 with parameters: {'n_estimators': 240}.\n"
     ]
    },
    {
     "name": "stdout",
     "output_type": "stream",
     "text": [
      "lightgbm model (n_estimators=690.000000):\n",
      "train mean accuracy: 0.8739498272148596\n",
      "test mean accuracy: 0.8117959754759274\n"
     ]
    },
    {
     "name": "stderr",
     "output_type": "stream",
     "text": [
      "[I 2018-12-22 16:22:48,308] Finished a trial resulted in value: 0.1882040245240726. Current best value is 0.18398838201055767 with parameters: {'n_estimators': 240}.\n"
     ]
    },
    {
     "name": "stdout",
     "output_type": "stream",
     "text": [
      "lightgbm model (n_estimators=692.000000):\n",
      "train mean accuracy: 0.8739498272148596\n",
      "test mean accuracy: 0.8117959754759274\n"
     ]
    },
    {
     "name": "stderr",
     "output_type": "stream",
     "text": [
      "[I 2018-12-22 16:22:50,352] Finished a trial resulted in value: 0.1882040245240726. Current best value is 0.18398838201055767 with parameters: {'n_estimators': 240}.\n"
     ]
    },
    {
     "name": "stdout",
     "output_type": "stream",
     "text": [
      "lightgbm model (n_estimators=55.000000):\n",
      "train mean accuracy: 0.8549833273422678\n",
      "test mean accuracy: 0.8131845878624422\n"
     ]
    },
    {
     "name": "stderr",
     "output_type": "stream",
     "text": [
      "[I 2018-12-22 16:22:50,780] Finished a trial resulted in value: 0.1868154121375578. Current best value is 0.18398838201055767 with parameters: {'n_estimators': 240}.\n"
     ]
    },
    {
     "name": "stdout",
     "output_type": "stream",
     "text": [
      "lightgbm model (n_estimators=78.000000):\n",
      "train mean accuracy: 0.8606059956122396\n",
      "test mean accuracy: 0.8118058247815515\n"
     ]
    },
    {
     "name": "stderr",
     "output_type": "stream",
     "text": [
      "[I 2018-12-22 16:22:51,228] Finished a trial resulted in value: 0.1881941752184485. Current best value is 0.18398838201055767 with parameters: {'n_estimators': 240}.\n"
     ]
    },
    {
     "name": "stdout",
     "output_type": "stream",
     "text": [
      "lightgbm model (n_estimators=454.000000):\n",
      "train mean accuracy: 0.8739498272148596\n",
      "test mean accuracy: 0.8117959754759274\n"
     ]
    },
    {
     "name": "stderr",
     "output_type": "stream",
     "text": [
      "[I 2018-12-22 16:22:52,632] Finished a trial resulted in value: 0.1882040245240726. Current best value is 0.18398838201055767 with parameters: {'n_estimators': 240}.\n"
     ]
    },
    {
     "name": "stdout",
     "output_type": "stream",
     "text": [
      "lightgbm model (n_estimators=14.000000):\n",
      "train mean accuracy: 0.8353206078671791\n",
      "test mean accuracy: 0.8104371904192101\n"
     ]
    },
    {
     "name": "stderr",
     "output_type": "stream",
     "text": [
      "[I 2018-12-22 16:22:52,889] Finished a trial resulted in value: 0.18956280958078986. Current best value is 0.18398838201055767 with parameters: {'n_estimators': 240}.\n"
     ]
    },
    {
     "name": "stdout",
     "output_type": "stream",
     "text": [
      "lightgbm model (n_estimators=756.000000):\n",
      "train mean accuracy: 0.8739498272148596\n",
      "test mean accuracy: 0.8117959754759274\n"
     ]
    },
    {
     "name": "stderr",
     "output_type": "stream",
     "text": [
      "[I 2018-12-22 16:22:55,506] Finished a trial resulted in value: 0.1882040245240726. Current best value is 0.18398838201055767 with parameters: {'n_estimators': 240}.\n"
     ]
    },
    {
     "name": "stdout",
     "output_type": "stream",
     "text": [
      "lightgbm model (n_estimators=410.000000):\n",
      "train mean accuracy: 0.8739498272148596\n",
      "test mean accuracy: 0.8132044261801529\n"
     ]
    },
    {
     "name": "stderr",
     "output_type": "stream",
     "text": [
      "[I 2018-12-22 16:22:56,871] Finished a trial resulted in value: 0.18679557381984713. Current best value is 0.18398838201055767 with parameters: {'n_estimators': 240}.\n"
     ]
    },
    {
     "name": "stdout",
     "output_type": "stream",
     "text": [
      "lightgbm model (n_estimators=383.000000):\n",
      "train mean accuracy: 0.8739498272148596\n",
      "test mean accuracy: 0.8117959754759274\n"
     ]
    },
    {
     "name": "stderr",
     "output_type": "stream",
     "text": [
      "[I 2018-12-22 16:22:58,024] Finished a trial resulted in value: 0.1882040245240726. Current best value is 0.18398838201055767 with parameters: {'n_estimators': 240}.\n"
     ]
    },
    {
     "name": "stdout",
     "output_type": "stream",
     "text": [
      "lightgbm model (n_estimators=654.000000):\n",
      "train mean accuracy: 0.8739498272148596\n",
      "test mean accuracy: 0.8103973740773261\n"
     ]
    },
    {
     "name": "stderr",
     "output_type": "stream",
     "text": [
      "[I 2018-12-22 16:23:01,328] Finished a trial resulted in value: 0.18960262592267385. Current best value is 0.18398838201055767 with parameters: {'n_estimators': 240}.\n"
     ]
    },
    {
     "name": "stdout",
     "output_type": "stream",
     "text": [
      "lightgbm model (n_estimators=861.000000):\n",
      "train mean accuracy: 0.8739498272148596\n",
      "test mean accuracy: 0.8062015698815219\n"
     ]
    },
    {
     "name": "stderr",
     "output_type": "stream",
     "text": [
      "[I 2018-12-22 16:23:03,385] Finished a trial resulted in value: 0.19379843011847808. Current best value is 0.18398838201055767 with parameters: {'n_estimators': 240}.\n"
     ]
    },
    {
     "name": "stdout",
     "output_type": "stream",
     "text": [
      "lightgbm model (n_estimators=343.000000):\n",
      "train mean accuracy: 0.8735995645178368\n",
      "test mean accuracy: 0.814613016590841\n"
     ]
    },
    {
     "name": "stderr",
     "output_type": "stream",
     "text": [
      "[I 2018-12-22 16:23:04,130] Finished a trial resulted in value: 0.18538698340915905. Current best value is 0.18398838201055767 with parameters: {'n_estimators': 240}.\n"
     ]
    },
    {
     "name": "stdout",
     "output_type": "stream",
     "text": [
      "lightgbm model (n_estimators=799.000000):\n",
      "train mean accuracy: 0.8739498272148596\n",
      "test mean accuracy: 0.8103973740773261\n"
     ]
    },
    {
     "name": "stderr",
     "output_type": "stream",
     "text": [
      "[I 2018-12-22 16:23:09,438] Finished a trial resulted in value: 0.18960262592267385. Current best value is 0.18398838201055767 with parameters: {'n_estimators': 240}.\n"
     ]
    },
    {
     "name": "stdout",
     "output_type": "stream",
     "text": [
      "lightgbm model (n_estimators=671.000000):\n",
      "train mean accuracy: 0.8739498272148596\n",
      "test mean accuracy: 0.8117959754759274\n"
     ]
    },
    {
     "name": "stderr",
     "output_type": "stream",
     "text": [
      "[I 2018-12-22 16:23:11,127] Finished a trial resulted in value: 0.1882040245240726. Current best value is 0.18398838201055767 with parameters: {'n_estimators': 240}.\n"
     ]
    },
    {
     "name": "stdout",
     "output_type": "stream",
     "text": [
      "lightgbm model (n_estimators=90.000000):\n",
      "train mean accuracy: 0.8609568749651375\n",
      "test mean accuracy: 0.8132242644978636\n"
     ]
    },
    {
     "name": "stderr",
     "output_type": "stream",
     "text": [
      "[I 2018-12-22 16:23:11,441] Finished a trial resulted in value: 0.18677573550213644. Current best value is 0.18398838201055767 with parameters: {'n_estimators': 240}.\n"
     ]
    },
    {
     "name": "stdout",
     "output_type": "stream",
     "text": [
      "lightgbm model (n_estimators=653.000000):\n",
      "train mean accuracy: 0.8739498272148596\n",
      "test mean accuracy: 0.8103973740773261\n"
     ]
    },
    {
     "name": "stderr",
     "output_type": "stream",
     "text": [
      "[I 2018-12-22 16:23:12,894] Finished a trial resulted in value: 0.18960262592267385. Current best value is 0.18398838201055767 with parameters: {'n_estimators': 240}.\n"
     ]
    },
    {
     "name": "stdout",
     "output_type": "stream",
     "text": [
      "lightgbm model (n_estimators=322.000000):\n",
      "train mean accuracy: 0.8735995645178368\n",
      "test mean accuracy: 0.8132144151922395\n"
     ]
    },
    {
     "name": "stderr",
     "output_type": "stream",
     "text": [
      "[I 2018-12-22 16:23:13,701] Finished a trial resulted in value: 0.18678558480776053. Current best value is 0.18398838201055767 with parameters: {'n_estimators': 240}.\n"
     ]
    },
    {
     "name": "stdout",
     "output_type": "stream",
     "text": [
      "lightgbm model (n_estimators=544.000000):\n",
      "train mean accuracy: 0.8739498272148596\n",
      "test mean accuracy: 0.8132044261801529\n"
     ]
    },
    {
     "name": "stderr",
     "output_type": "stream",
     "text": [
      "[I 2018-12-22 16:23:14,993] Finished a trial resulted in value: 0.18679557381984713. Current best value is 0.18398838201055767 with parameters: {'n_estimators': 240}.\n"
     ]
    },
    {
     "name": "stdout",
     "output_type": "stream",
     "text": [
      "lightgbm model (n_estimators=826.000000):\n",
      "train mean accuracy: 0.8739498272148596\n",
      "test mean accuracy: 0.8103973740773261\n"
     ]
    },
    {
     "name": "stderr",
     "output_type": "stream",
     "text": [
      "[I 2018-12-22 16:23:43,347] Finished a trial resulted in value: 0.18960262592267385. Current best value is 0.18398838201055767 with parameters: {'n_estimators': 240}.\n"
     ]
    },
    {
     "name": "stdout",
     "output_type": "stream",
     "text": [
      "lightgbm model (n_estimators=805.000000):\n",
      "train mean accuracy: 0.8739498272148596\n",
      "test mean accuracy: 0.8117959754759274\n"
     ]
    },
    {
     "name": "stderr",
     "output_type": "stream",
     "text": [
      "[I 2018-12-22 16:23:57,948] Finished a trial resulted in value: 0.1882040245240726. Current best value is 0.18398838201055767 with parameters: {'n_estimators': 240}.\n"
     ]
    },
    {
     "name": "stdout",
     "output_type": "stream",
     "text": [
      "lightgbm model (n_estimators=284.000000):\n",
      "train mean accuracy: 0.8735995645178368\n",
      "test mean accuracy: 0.814613016590841\n"
     ]
    },
    {
     "name": "stderr",
     "output_type": "stream",
     "text": [
      "[I 2018-12-22 16:23:58,662] Finished a trial resulted in value: 0.18538698340915905. Current best value is 0.18398838201055767 with parameters: {'n_estimators': 240}.\n"
     ]
    },
    {
     "name": "stdout",
     "output_type": "stream",
     "text": [
      "lightgbm model (n_estimators=531.000000):\n",
      "train mean accuracy: 0.8739498272148596\n",
      "test mean accuracy: 0.8132044261801529\n"
     ]
    },
    {
     "name": "stderr",
     "output_type": "stream",
     "text": [
      "[I 2018-12-22 16:24:02,999] Finished a trial resulted in value: 0.18679557381984713. Current best value is 0.18398838201055767 with parameters: {'n_estimators': 240}.\n"
     ]
    },
    {
     "name": "stdout",
     "output_type": "stream",
     "text": [
      "lightgbm model (n_estimators=94.000000):\n",
      "train mean accuracy: 0.8627149587053855\n",
      "test mean accuracy: 0.8132242644978636\n"
     ]
    },
    {
     "name": "stderr",
     "output_type": "stream",
     "text": [
      "[I 2018-12-22 16:24:03,594] Finished a trial resulted in value: 0.18677573550213644. Current best value is 0.18398838201055767 with parameters: {'n_estimators': 240}.\n"
     ]
    },
    {
     "name": "stdout",
     "output_type": "stream",
     "text": [
      "lightgbm model (n_estimators=78.000000):\n",
      "train mean accuracy: 0.8606059956122396\n",
      "test mean accuracy: 0.8118058247815515\n"
     ]
    },
    {
     "name": "stderr",
     "output_type": "stream",
     "text": [
      "[I 2018-12-22 16:24:03,972] Finished a trial resulted in value: 0.1881941752184485. Current best value is 0.18398838201055767 with parameters: {'n_estimators': 240}.\n"
     ]
    },
    {
     "name": "stdout",
     "output_type": "stream",
     "text": [
      "lightgbm model (n_estimators=407.000000):\n",
      "train mean accuracy: 0.8739498272148596\n",
      "test mean accuracy: 0.8132044261801529\n"
     ]
    },
    {
     "name": "stderr",
     "output_type": "stream",
     "text": [
      "[I 2018-12-22 16:24:05,240] Finished a trial resulted in value: 0.18679557381984713. Current best value is 0.18398838201055767 with parameters: {'n_estimators': 240}.\n"
     ]
    },
    {
     "name": "stdout",
     "output_type": "stream",
     "text": [
      "lightgbm model (n_estimators=920.000000):\n",
      "train mean accuracy: 0.8739498272148596\n",
      "test mean accuracy: 0.8076001712801233\n"
     ]
    },
    {
     "name": "stderr",
     "output_type": "stream",
     "text": [
      "[I 2018-12-22 16:24:08,022] Finished a trial resulted in value: 0.1923998287198767. Current best value is 0.18398838201055767 with parameters: {'n_estimators': 240}.\n"
     ]
    },
    {
     "name": "stdout",
     "output_type": "stream",
     "text": [
      "lightgbm model (n_estimators=607.000000):\n",
      "train mean accuracy: 0.8739498272148596\n",
      "test mean accuracy: 0.8103973740773261\n"
     ]
    },
    {
     "name": "stderr",
     "output_type": "stream",
     "text": [
      "[I 2018-12-22 16:24:10,170] Finished a trial resulted in value: 0.18960262592267385. Current best value is 0.18398838201055767 with parameters: {'n_estimators': 240}.\n"
     ]
    },
    {
     "name": "stdout",
     "output_type": "stream",
     "text": [
      "lightgbm model (n_estimators=761.000000):\n",
      "train mean accuracy: 0.8739498272148596\n",
      "test mean accuracy: 0.8117959754759274\n"
     ]
    },
    {
     "name": "stderr",
     "output_type": "stream",
     "text": [
      "[I 2018-12-22 16:24:11,803] Finished a trial resulted in value: 0.1882040245240726. Current best value is 0.18398838201055767 with parameters: {'n_estimators': 240}.\n"
     ]
    },
    {
     "name": "stdout",
     "output_type": "stream",
     "text": [
      "lightgbm model (n_estimators=396.000000):\n",
      "train mean accuracy: 0.8739498272148596\n",
      "test mean accuracy: 0.8132044261801529\n"
     ]
    },
    {
     "name": "stderr",
     "output_type": "stream",
     "text": [
      "[I 2018-12-22 16:24:12,622] Finished a trial resulted in value: 0.18679557381984713. Current best value is 0.18398838201055767 with parameters: {'n_estimators': 240}.\n"
     ]
    },
    {
     "name": "stdout",
     "output_type": "stream",
     "text": [
      "lightgbm model (n_estimators=669.000000):\n",
      "train mean accuracy: 0.8739498272148596\n",
      "test mean accuracy: 0.8117959754759274\n"
     ]
    },
    {
     "name": "stderr",
     "output_type": "stream",
     "text": [
      "[I 2018-12-22 16:24:13,863] Finished a trial resulted in value: 0.1882040245240726. Current best value is 0.18398838201055767 with parameters: {'n_estimators': 240}.\n"
     ]
    },
    {
     "name": "stdout",
     "output_type": "stream",
     "text": [
      "lightgbm model (n_estimators=75.000000):\n",
      "train mean accuracy: 0.8599036245703996\n",
      "test mean accuracy: 0.8132142754857767\n"
     ]
    },
    {
     "name": "stderr",
     "output_type": "stream",
     "text": [
      "[I 2018-12-22 16:24:14,141] Finished a trial resulted in value: 0.18678572451422326. Current best value is 0.18398838201055767 with parameters: {'n_estimators': 240}.\n"
     ]
    },
    {
     "name": "stdout",
     "output_type": "stream",
     "text": [
      "lightgbm model (n_estimators=217.000000):\n",
      "train mean accuracy: 0.8728965768201217\n",
      "test mean accuracy: 0.8132045658866156\n"
     ]
    },
    {
     "name": "stderr",
     "output_type": "stream",
     "text": [
      "[I 2018-12-22 16:24:14,672] Finished a trial resulted in value: 0.1867954341133844. Current best value is 0.18398838201055767 with parameters: {'n_estimators': 240}.\n"
     ]
    },
    {
     "name": "stdout",
     "output_type": "stream",
     "text": [
      "lightgbm model (n_estimators=394.000000):\n",
      "train mean accuracy: 0.8739498272148596\n",
      "test mean accuracy: 0.8117959754759274\n"
     ]
    },
    {
     "name": "stderr",
     "output_type": "stream",
     "text": [
      "[I 2018-12-22 16:24:15,535] Finished a trial resulted in value: 0.1882040245240726. Current best value is 0.18398838201055767 with parameters: {'n_estimators': 240}.\n"
     ]
    },
    {
     "name": "stdout",
     "output_type": "stream",
     "text": [
      "lightgbm model (n_estimators=16.000000):\n",
      "train mean accuracy: 0.8377773713536779\n",
      "test mean accuracy: 0.8104570287369208\n"
     ]
    },
    {
     "name": "stderr",
     "output_type": "stream",
     "text": [
      "[I 2018-12-22 16:24:15,733] Finished a trial resulted in value: 0.18954297126307917. Current best value is 0.18398838201055767 with parameters: {'n_estimators': 240}.\n"
     ]
    },
    {
     "name": "stdout",
     "output_type": "stream",
     "text": [
      "lightgbm model (n_estimators=531.000000):\n",
      "train mean accuracy: 0.8739498272148596\n",
      "test mean accuracy: 0.8132044261801529\n"
     ]
    },
    {
     "name": "stderr",
     "output_type": "stream",
     "text": [
      "[I 2018-12-22 16:24:17,125] Finished a trial resulted in value: 0.18679557381984713. Current best value is 0.18398838201055767 with parameters: {'n_estimators': 240}.\n"
     ]
    },
    {
     "name": "stdout",
     "output_type": "stream",
     "text": [
      "lightgbm model (n_estimators=465.000000):\n",
      "train mean accuracy: 0.8739498272148596\n",
      "test mean accuracy: 0.8117959754759274\n"
     ]
    },
    {
     "name": "stderr",
     "output_type": "stream",
     "text": [
      "[I 2018-12-22 16:24:18,212] Finished a trial resulted in value: 0.1882040245240726. Current best value is 0.18398838201055767 with parameters: {'n_estimators': 240}.\n"
     ]
    },
    {
     "name": "stdout",
     "output_type": "stream",
     "text": [
      "lightgbm model (n_estimators=631.000000):\n",
      "train mean accuracy: 0.8739498272148596\n",
      "test mean accuracy: 0.8118058247815515\n"
     ]
    },
    {
     "name": "stderr",
     "output_type": "stream",
     "text": [
      "[I 2018-12-22 16:24:20,442] Finished a trial resulted in value: 0.1881941752184485. Current best value is 0.18398838201055767 with parameters: {'n_estimators': 240}.\n"
     ]
    },
    {
     "name": "stdout",
     "output_type": "stream",
     "text": [
      "lightgbm model (n_estimators=72.000000):\n",
      "train mean accuracy: 0.8599036245703996\n",
      "test mean accuracy: 0.8132044261801529\n"
     ]
    },
    {
     "name": "stderr",
     "output_type": "stream",
     "text": [
      "[I 2018-12-22 16:24:21,366] Finished a trial resulted in value: 0.18679557381984713. Current best value is 0.18398838201055767 with parameters: {'n_estimators': 240}.\n"
     ]
    },
    {
     "name": "stdout",
     "output_type": "stream",
     "text": [
      "lightgbm model (n_estimators=345.000000):\n",
      "train mean accuracy: 0.8735995645178368\n",
      "test mean accuracy: 0.814613016590841\n"
     ]
    },
    {
     "name": "stderr",
     "output_type": "stream",
     "text": [
      "[I 2018-12-22 16:24:22,556] Finished a trial resulted in value: 0.18538698340915905. Current best value is 0.18398838201055767 with parameters: {'n_estimators': 240}.\n"
     ]
    },
    {
     "name": "stdout",
     "output_type": "stream",
     "text": [
      "lightgbm model (n_estimators=396.000000):\n",
      "train mean accuracy: 0.8739498272148596\n",
      "test mean accuracy: 0.8132044261801529\n"
     ]
    },
    {
     "name": "stderr",
     "output_type": "stream",
     "text": [
      "[I 2018-12-22 16:24:23,744] Finished a trial resulted in value: 0.18679557381984713. Current best value is 0.18398838201055767 with parameters: {'n_estimators': 240}.\n"
     ]
    },
    {
     "name": "stdout",
     "output_type": "stream",
     "text": [
      "lightgbm model (n_estimators=658.000000):\n",
      "train mean accuracy: 0.8739498272148596\n",
      "test mean accuracy: 0.8103973740773261\n"
     ]
    },
    {
     "name": "stderr",
     "output_type": "stream",
     "text": [
      "[I 2018-12-22 16:24:25,420] Finished a trial resulted in value: 0.18960262592267385. Current best value is 0.18398838201055767 with parameters: {'n_estimators': 240}.\n"
     ]
    },
    {
     "name": "stdout",
     "output_type": "stream",
     "text": [
      "lightgbm model (n_estimators=431.000000):\n",
      "train mean accuracy: 0.8739498272148596\n",
      "test mean accuracy: 0.8117959754759274\n"
     ]
    },
    {
     "name": "stderr",
     "output_type": "stream",
     "text": [
      "[I 2018-12-22 16:24:26,585] Finished a trial resulted in value: 0.1882040245240726. Current best value is 0.18398838201055767 with parameters: {'n_estimators': 240}.\n"
     ]
    },
    {
     "name": "stdout",
     "output_type": "stream",
     "text": [
      "lightgbm model (n_estimators=136.000000):\n",
      "train mean accuracy: 0.8697362132998633\n",
      "test mean accuracy: 0.8090186109964354\n"
     ]
    },
    {
     "name": "stderr",
     "output_type": "stream",
     "text": [
      "[I 2018-12-22 16:24:27,145] Finished a trial resulted in value: 0.19098138900356465. Current best value is 0.18398838201055767 with parameters: {'n_estimators': 240}.\n"
     ]
    },
    {
     "name": "stdout",
     "output_type": "stream",
     "text": [
      "lightgbm model (n_estimators=716.000000):\n",
      "train mean accuracy: 0.8739498272148596\n",
      "test mean accuracy: 0.813194576874529\n"
     ]
    },
    {
     "name": "stderr",
     "output_type": "stream",
     "text": [
      "[I 2018-12-22 16:24:29,008] Finished a trial resulted in value: 0.186805423125471. Current best value is 0.18398838201055767 with parameters: {'n_estimators': 240}.\n"
     ]
    },
    {
     "name": "stdout",
     "output_type": "stream",
     "text": [
      "lightgbm model (n_estimators=797.000000):\n",
      "train mean accuracy: 0.8739498272148596\n",
      "test mean accuracy: 0.8117959754759274\n"
     ]
    },
    {
     "name": "stderr",
     "output_type": "stream",
     "text": [
      "[I 2018-12-22 16:24:30,922] Finished a trial resulted in value: 0.1882040245240726. Current best value is 0.18398838201055767 with parameters: {'n_estimators': 240}.\n"
     ]
    },
    {
     "name": "stdout",
     "output_type": "stream",
     "text": [
      "lightgbm model (n_estimators=802.000000):\n",
      "train mean accuracy: 0.8739498272148596\n",
      "test mean accuracy: 0.8117959754759274\n"
     ]
    },
    {
     "name": "stderr",
     "output_type": "stream",
     "text": [
      "[I 2018-12-22 16:24:32,793] Finished a trial resulted in value: 0.1882040245240726. Current best value is 0.18398838201055767 with parameters: {'n_estimators': 240}.\n"
     ]
    },
    {
     "name": "stdout",
     "output_type": "stream",
     "text": [
      "lightgbm model (n_estimators=469.000000):\n",
      "train mean accuracy: 0.8739498272148596\n",
      "test mean accuracy: 0.8117959754759274\n"
     ]
    },
    {
     "name": "stderr",
     "output_type": "stream",
     "text": [
      "[I 2018-12-22 16:24:33,749] Finished a trial resulted in value: 0.1882040245240726. Current best value is 0.18398838201055767 with parameters: {'n_estimators': 240}.\n"
     ]
    },
    {
     "name": "stdout",
     "output_type": "stream",
     "text": [
      "lightgbm model (n_estimators=763.000000):\n",
      "train mean accuracy: 0.8739498272148596\n",
      "test mean accuracy: 0.8103973740773261\n"
     ]
    },
    {
     "name": "stderr",
     "output_type": "stream",
     "text": [
      "[I 2018-12-22 16:24:35,397] Finished a trial resulted in value: 0.18960262592267385. Current best value is 0.18398838201055767 with parameters: {'n_estimators': 240}.\n"
     ]
    },
    {
     "name": "stdout",
     "output_type": "stream",
     "text": [
      "lightgbm model (n_estimators=865.000000):\n",
      "train mean accuracy: 0.8739498272148596\n",
      "test mean accuracy: 0.8062015698815219\n"
     ]
    },
    {
     "name": "stderr",
     "output_type": "stream",
     "text": [
      "[I 2018-12-22 16:24:37,266] Finished a trial resulted in value: 0.19379843011847808. Current best value is 0.18398838201055767 with parameters: {'n_estimators': 240}.\n"
     ]
    },
    {
     "name": "stdout",
     "output_type": "stream",
     "text": [
      "lightgbm model (n_estimators=473.000000):\n",
      "train mean accuracy: 0.8739498272148596\n",
      "test mean accuracy: 0.8117959754759274\n"
     ]
    },
    {
     "name": "stderr",
     "output_type": "stream",
     "text": [
      "[I 2018-12-22 16:24:38,341] Finished a trial resulted in value: 0.1882040245240726. Current best value is 0.18398838201055767 with parameters: {'n_estimators': 240}.\n"
     ]
    },
    {
     "name": "stdout",
     "output_type": "stream",
     "text": [
      "lightgbm model (n_estimators=45.000000):\n",
      "train mean accuracy: 0.850069804689101\n",
      "test mean accuracy: 0.8117959754759274\n"
     ]
    },
    {
     "name": "stderr",
     "output_type": "stream",
     "text": [
      "[I 2018-12-22 16:24:38,611] Finished a trial resulted in value: 0.1882040245240726. Current best value is 0.18398838201055767 with parameters: {'n_estimators': 240}.\n"
     ]
    },
    {
     "name": "stdout",
     "output_type": "stream",
     "text": [
      "lightgbm model (n_estimators=646.000000):\n",
      "train mean accuracy: 0.8739498272148596\n",
      "test mean accuracy: 0.8132044261801529\n"
     ]
    },
    {
     "name": "stderr",
     "output_type": "stream",
     "text": [
      "[I 2018-12-22 16:24:40,739] Finished a trial resulted in value: 0.18679557381984713. Current best value is 0.18398838201055767 with parameters: {'n_estimators': 240}.\n"
     ]
    },
    {
     "name": "stdout",
     "output_type": "stream",
     "text": [
      "lightgbm model (n_estimators=5.000000):\n",
      "train mean accuracy: 0.8103996421452001\n",
      "test mean accuracy: 0.7906983437100309\n"
     ]
    },
    {
     "name": "stderr",
     "output_type": "stream",
     "text": [
      "[I 2018-12-22 16:24:40,988] Finished a trial resulted in value: 0.2093016562899691. Current best value is 0.18398838201055767 with parameters: {'n_estimators': 240}.\n"
     ]
    },
    {
     "name": "stdout",
     "output_type": "stream",
     "text": [
      "lightgbm model (n_estimators=72.000000):\n",
      "train mean accuracy: 0.8599036245703996\n",
      "test mean accuracy: 0.8132044261801529\n"
     ]
    },
    {
     "name": "stderr",
     "output_type": "stream",
     "text": [
      "[I 2018-12-22 16:24:41,425] Finished a trial resulted in value: 0.18679557381984713. Current best value is 0.18398838201055767 with parameters: {'n_estimators': 240}.\n"
     ]
    },
    {
     "name": "stdout",
     "output_type": "stream",
     "text": [
      "lightgbm model (n_estimators=345.000000):\n",
      "train mean accuracy: 0.8735995645178368\n",
      "test mean accuracy: 0.814613016590841\n"
     ]
    },
    {
     "name": "stderr",
     "output_type": "stream",
     "text": [
      "[I 2018-12-22 16:24:42,638] Finished a trial resulted in value: 0.18538698340915905. Current best value is 0.18398838201055767 with parameters: {'n_estimators': 240}.\n"
     ]
    },
    {
     "name": "stdout",
     "output_type": "stream",
     "text": [
      "lightgbm model (n_estimators=857.000000):\n",
      "train mean accuracy: 0.8739498272148596\n",
      "test mean accuracy: 0.8062015698815219\n"
     ]
    },
    {
     "name": "stderr",
     "output_type": "stream",
     "text": [
      "[I 2018-12-22 16:24:44,944] Finished a trial resulted in value: 0.19379843011847808. Current best value is 0.18398838201055767 with parameters: {'n_estimators': 240}.\n"
     ]
    },
    {
     "name": "stdout",
     "output_type": "stream",
     "text": [
      "lightgbm model (n_estimators=819.000000):\n",
      "train mean accuracy: 0.8739498272148596\n",
      "test mean accuracy: 0.813194576874529\n"
     ]
    },
    {
     "name": "stderr",
     "output_type": "stream",
     "text": [
      "[I 2018-12-22 16:24:47,169] Finished a trial resulted in value: 0.186805423125471. Current best value is 0.18398838201055767 with parameters: {'n_estimators': 240}.\n"
     ]
    },
    {
     "name": "stdout",
     "output_type": "stream",
     "text": [
      "lightgbm model (n_estimators=365.000000):\n",
      "train mean accuracy: 0.8735995645178368\n",
      "test mean accuracy: 0.8132144151922395\n"
     ]
    },
    {
     "name": "stderr",
     "output_type": "stream",
     "text": [
      "[I 2018-12-22 16:24:48,060] Finished a trial resulted in value: 0.18678558480776053. Current best value is 0.18398838201055767 with parameters: {'n_estimators': 240}.\n"
     ]
    },
    {
     "name": "stdout",
     "output_type": "stream",
     "text": [
      "lightgbm model (n_estimators=183.000000):\n",
      "train mean accuracy: 0.8714924492324011\n",
      "test mean accuracy: 0.8146526932262624\n"
     ]
    },
    {
     "name": "stderr",
     "output_type": "stream",
     "text": [
      "[I 2018-12-22 16:24:48,574] Finished a trial resulted in value: 0.18534730677373756. Current best value is 0.18398838201055767 with parameters: {'n_estimators': 240}.\n"
     ]
    },
    {
     "name": "stdout",
     "output_type": "stream",
     "text": [
      "lightgbm model (n_estimators=291.000000):\n",
      "train mean accuracy: 0.8735995645178368\n",
      "test mean accuracy: 0.814613016590841\n"
     ]
    },
    {
     "name": "stderr",
     "output_type": "stream",
     "text": [
      "[I 2018-12-22 16:24:49,292] Finished a trial resulted in value: 0.18538698340915905. Current best value is 0.18398838201055767 with parameters: {'n_estimators': 240}.\n"
     ]
    },
    {
     "name": "stdout",
     "output_type": "stream",
     "text": [
      "lightgbm model (n_estimators=361.000000):\n",
      "train mean accuracy: 0.8735995645178368\n",
      "test mean accuracy: 0.8132144151922395\n"
     ]
    },
    {
     "name": "stderr",
     "output_type": "stream",
     "text": [
      "[I 2018-12-22 16:24:50,143] Finished a trial resulted in value: 0.18678558480776053. Current best value is 0.18398838201055767 with parameters: {'n_estimators': 240}.\n"
     ]
    },
    {
     "name": "stdout",
     "output_type": "stream",
     "text": [
      "lightgbm model (n_estimators=784.000000):\n",
      "train mean accuracy: 0.8739498272148596\n",
      "test mean accuracy: 0.813194576874529\n"
     ]
    },
    {
     "name": "stderr",
     "output_type": "stream",
     "text": [
      "[I 2018-12-22 16:24:51,768] Finished a trial resulted in value: 0.186805423125471. Current best value is 0.18398838201055767 with parameters: {'n_estimators': 240}.\n"
     ]
    },
    {
     "name": "stdout",
     "output_type": "stream",
     "text": [
      "lightgbm model (n_estimators=462.000000):\n",
      "train mean accuracy: 0.8739498272148596\n",
      "test mean accuracy: 0.8103875247717023\n"
     ]
    },
    {
     "name": "stderr",
     "output_type": "stream",
     "text": [
      "[I 2018-12-22 16:24:52,795] Finished a trial resulted in value: 0.18961247522829772. Current best value is 0.18398838201055767 with parameters: {'n_estimators': 240}.\n"
     ]
    },
    {
     "name": "stdout",
     "output_type": "stream",
     "text": [
      "lightgbm model (n_estimators=857.000000):\n",
      "train mean accuracy: 0.8739498272148596\n",
      "test mean accuracy: 0.8062015698815219\n"
     ]
    },
    {
     "name": "stderr",
     "output_type": "stream",
     "text": [
      "[I 2018-12-22 16:24:54,621] Finished a trial resulted in value: 0.19379843011847808. Current best value is 0.18398838201055767 with parameters: {'n_estimators': 240}.\n"
     ]
    },
    {
     "name": "stdout",
     "output_type": "stream",
     "text": [
      "lightgbm model (n_estimators=656.000000):\n",
      "train mean accuracy: 0.8739498272148596\n",
      "test mean accuracy: 0.8117959754759274\n"
     ]
    },
    {
     "name": "stderr",
     "output_type": "stream",
     "text": [
      "[I 2018-12-22 16:24:56,011] Finished a trial resulted in value: 0.1882040245240726. Current best value is 0.18398838201055767 with parameters: {'n_estimators': 240}.\n"
     ]
    },
    {
     "name": "stdout",
     "output_type": "stream",
     "text": [
      "lightgbm model (n_estimators=135.000000):\n",
      "train mean accuracy: 0.8693859506028405\n",
      "test mean accuracy: 0.8090186109964354\n"
     ]
    },
    {
     "name": "stderr",
     "output_type": "stream",
     "text": [
      "[I 2018-12-22 16:24:56,645] Finished a trial resulted in value: 0.19098138900356465. Current best value is 0.18398838201055767 with parameters: {'n_estimators': 240}.\n"
     ]
    },
    {
     "name": "stdout",
     "output_type": "stream",
     "text": [
      "FrozenTrial(trial_id=23, state=<TrialState.COMPLETE: 1>, value=0.18398838201055767, datetime_start=datetime.datetime(2018, 12, 22, 16, 22, 35, 588396), datetime_complete=datetime.datetime(2018, 12, 22, 16, 22, 36, 244946), params={'n_estimators': 240}, user_attrs={}, system_attrs={}, intermediate_values={}, params_in_internal_repr={'n_estimators': 240})\n"
     ]
    }
   ],
   "source": [
    "import optuna\n",
    "import mlflow\n",
    "\n",
    "sampler = RandomSampler(seed=10)\n",
    "\n",
    "tracking_uri = \"../mlruns\"\n",
    "mlflow.set_tracking_uri(tracking_uri)\n",
    "\n",
    "experiment_name = \"n_estimators\"\n",
    "mlflow.set_experiment(experiment_name)\n",
    "\n",
    "study = optuna.create_study(sampler = sampler)\n",
    "study.optimize(objective, n_trials=100)\n",
    "print(study.best_trial)"
   ]
  },
  {
   "cell_type": "markdown",
   "metadata": {},
   "source": [
    "# どの特徴量を使うのかも探索してみる\n",
    "ベクトルで表す ex. [1111011]"
   ]
  },
  {
   "cell_type": "code",
   "execution_count": 7,
   "metadata": {
    "scrolled": true
   },
   "outputs": [],
   "source": [
    "def train(in_n_estimators, in_feature_selection_vector):\n",
    "    import os\n",
    "    import warnings\n",
    "    import sys\n",
    "\n",
    "    import pandas as pd\n",
    "    import numpy as np\n",
    "    from sklearn.metrics import mean_squared_error, mean_absolute_error, r2_score\n",
    "    from sklearn.model_selection import train_test_split\n",
    "    from sklearn.linear_model import ElasticNet\n",
    "\n",
    "    import mlflow\n",
    "    import mlflow.sklearn\n",
    "    \n",
    "    import pandas as pd\n",
    "    import lightgbm as gbm\n",
    "    from lightgbm.sklearn import LGBMClassifier\n",
    "    from sklearn.model_selection import train_test_split\n",
    "    from sklearn.metrics import accuracy_score\n",
    "    from sklearn.model_selection import GridSearchCV\n",
    "    from sklearn.model_selection import cross_validate\n",
    "\n",
    "    warnings.filterwarnings(\"ignore\")\n",
    "    np.random.seed(40)\n",
    "    \n",
    "    \n",
    "    #データ読み込み\n",
    "    train = pd.read_csv(\"../feature/train_feature.csv\")\n",
    "    \n",
    "    target = train[\"Survived\"]\n",
    "    train = train.drop(\"Survived\",axis=1)\n",
    "    trian= train.drop(\"PassengerId\", axis=1)\n",
    "    \n",
    "    #データ分割\n",
    "    X_train, X_test, y_train, y_test = train_test_split(train, target, test_size=0.2, random_state=42)\n",
    "    \n",
    "\n",
    "    # Set default values if no alpha is provided\n",
    "    if int(in_n_estimators) is None:\n",
    "        n_estimators = 100\n",
    "    else:\n",
    "        n_estimators = int(in_n_estimators)\n",
    "        \n",
    "    if in_feature_selection_vector is None:\n",
    "        feature_selection_vector = [True,True,True,True,True,True,True,True]\n",
    "    else:\n",
    "        feature_selection_vector = in_feature_selection_vector\n",
    "\n",
    "    X_train = X_train.loc[:,feature_selection_vector]\n",
    "    X_test = X_test.loc[:,feature_selection_vector]\n",
    "\n",
    "    # Useful for multiple runs (only doing one run in this sample notebook)    \n",
    "    with mlflow.start_run():\n",
    "        # model学習\n",
    "        model = gbm.LGBMClassifier(n_estimators=n_estimators)\n",
    "        \n",
    "        #cv\n",
    "        cv_results = cross_validate(model, X_train, y_train, cv =5, return_train_score=True, scoring = \"accuracy\")\n",
    "\n",
    "        train_score_mean = cv_results[\"train_score\"].mean()\n",
    "        test_score_mean = cv_results[\"test_score\"].mean()\n",
    "\n",
    "        # Print out metrics\n",
    "        print(\"lightgbm model (n_estimators=%f):\" % (n_estimators))\n",
    "        print(\"feature_selection_vector\", feature_selection_vector)\n",
    "        print(\"train mean accuracy: %s\" % train_score_mean)\n",
    "        print(\"test mean accuracy: %s\" % test_score_mean)\n",
    "\n",
    "\n",
    "        # Log parameter, metrics, and model to MLflow\n",
    "        mlflow.log_param(\"estimators\", n_estimators)\n",
    "        mlflow.log_param(\"feature1\", feature_selection_vector[0])\n",
    "        mlflow.log_param(\"feature2\", feature_selection_vector[1])\n",
    "        mlflow.log_param(\"feature3\", feature_selection_vector[2])\n",
    "        mlflow.log_param(\"feature4\", feature_selection_vector[3])\n",
    "        mlflow.log_param(\"feature5\", feature_selection_vector[4])\n",
    "        mlflow.log_param(\"feature6\", feature_selection_vector[5])\n",
    "        mlflow.log_param(\"feature7\", feature_selection_vector[6])\n",
    "        mlflow.log_param(\"feature8\", feature_selection_vector[7])\n",
    "        \n",
    "        mlflow.log_metric(\"train_mean_accracy\", train_score_mean)\n",
    "        mlflow.log_metric(\"test_mean_accracy\", test_score_mean)\n",
    "\n",
    "        mlflow.sklearn.log_model(model, \"model\")\n",
    "        \n",
    "    return test_score_mean\n"
   ]
  },
  {
   "cell_type": "code",
   "execution_count": 8,
   "metadata": {},
   "outputs": [],
   "source": [
    "def objective(trial):\n",
    "    n_estimators = trial.suggest_int('n_estimators', 1,1000)\n",
    "    \n",
    "    #データの列の数だけ要素をもつboolベクトル\n",
    "    feature1 = trial.suggest_int('feature1', 0,1)\n",
    "    feature2 = trial.suggest_int('feature2', 0,1)\n",
    "    feature3 = trial.suggest_int('feature3', 0,1)\n",
    "    feature4 = trial.suggest_int('feature4', 0,1)\n",
    "    feature5 = trial.suggest_int('feature5', 0,1)\n",
    "    feature6 = trial.suggest_int('feature6', 0,1)\n",
    "    feature7 = trial.suggest_int('feature7', 0,1)\n",
    "    feature8 = trial.suggest_int('feature8', 0,1)\n",
    "    \n",
    "    feature_selection_vector = [bool(feature1),bool(feature2),bool(feature3),bool(feature4),bool(feature5),bool(feature6),bool(feature7),bool(feature8)]\n",
    "        \n",
    "    score = train(n_estimators,feature_selection_vector)\n",
    "\n",
    "    return 1.0 - score"
   ]
  },
  {
   "cell_type": "code",
   "execution_count": 9,
   "metadata": {},
   "outputs": [
    {
     "name": "stdout",
     "output_type": "stream",
     "text": [
      "lightgbm model (n_estimators=266.000000):\n",
      "feature_selection_vector [True, False, True, False, True, True, False, True]\n",
      "train mean accuracy: 0.9561057706300413\n",
      "test mean accuracy: 0.717634378407528\n"
     ]
    },
    {
     "name": "stderr",
     "output_type": "stream",
     "text": [
      "[I 2018-12-22 16:19:06,238] Finished a trial resulted in value: 0.282365621592472. Current best value is 0.282365621592472 with parameters: {'n_estimators': 266, 'feature1': 1, 'feature2': 0, 'feature3': 1, 'feature4': 0, 'feature5': 1, 'feature6': 1, 'feature7': 0, 'feature8': 1}.\n"
     ]
    },
    {
     "name": "stdout",
     "output_type": "stream",
     "text": [
      "lightgbm model (n_estimators=734.000000):\n",
      "feature_selection_vector [False, True, True, False, False, True, False, False]\n",
      "train mean accuracy: 0.8160136945122434\n",
      "test mean accuracy: 0.8160517137442518\n"
     ]
    },
    {
     "name": "stderr",
     "output_type": "stream",
     "text": [
      "[I 2018-12-22 16:19:07,318] Finished a trial resulted in value: 0.18394828625574822. Current best value is 0.18394828625574822 with parameters: {'n_estimators': 734, 'feature1': 0, 'feature2': 1, 'feature3': 1, 'feature4': 0, 'feature5': 0, 'feature6': 1, 'feature7': 0, 'feature8': 0}.\n"
     ]
    },
    {
     "name": "stdout",
     "output_type": "stream",
     "text": [
      "lightgbm model (n_estimators=41.000000):\n",
      "feature_selection_vector [False, False, True, False, False, True, True, False]\n",
      "train mean accuracy: 0.7942469495108413\n",
      "test mean accuracy: 0.7880200311126292\n"
     ]
    },
    {
     "name": "stderr",
     "output_type": "stream",
     "text": [
      "[I 2018-12-22 16:19:07,621] Finished a trial resulted in value: 0.2119799688873708. Current best value is 0.18394828625574822 with parameters: {'n_estimators': 734, 'feature1': 0, 'feature2': 1, 'feature3': 1, 'feature4': 0, 'feature5': 0, 'feature6': 1, 'feature7': 0, 'feature8': 0}.\n"
     ]
    },
    {
     "name": "stdout",
     "output_type": "stream",
     "text": [
      "lightgbm model (n_estimators=345.000000):\n",
      "feature_selection_vector [True, False, False, True, False, False, False, True]\n",
      "train mean accuracy: 0.836722898446767\n",
      "test mean accuracy: 0.5701281038410196\n"
     ]
    },
    {
     "name": "stderr",
     "output_type": "stream",
     "text": [
      "[I 2018-12-22 16:19:08,547] Finished a trial resulted in value: 0.42987189615898036. Current best value is 0.18394828625574822 with parameters: {'n_estimators': 734, 'feature1': 0, 'feature2': 1, 'feature3': 1, 'feature4': 0, 'feature5': 0, 'feature6': 1, 'feature7': 0, 'feature8': 0}.\n"
     ]
    },
    {
     "name": "stdout",
     "output_type": "stream",
     "text": [
      "lightgbm model (n_estimators=692.000000):\n",
      "feature_selection_vector [False, True, True, True, True, True, False, True]\n",
      "train mean accuracy: 0.8651711012161781\n",
      "test mean accuracy: 0.7950029093870868\n"
     ]
    },
    {
     "name": "stderr",
     "output_type": "stream",
     "text": [
      "[I 2018-12-22 16:19:09,867] Finished a trial resulted in value: 0.20499709061291316. Current best value is 0.18394828625574822 with parameters: {'n_estimators': 734, 'feature1': 0, 'feature2': 1, 'feature3': 1, 'feature4': 0, 'feature5': 0, 'feature6': 1, 'feature7': 0, 'feature8': 0}.\n"
     ]
    },
    {
     "name": "stdout",
     "output_type": "stream",
     "text": [
      "lightgbm model (n_estimators=861.000000):\n",
      "feature_selection_vector [False, False, False, True, False, True, True, True]\n",
      "train mean accuracy: 0.8086434170122396\n",
      "test mean accuracy: 0.787970505171584\n"
     ]
    },
    {
     "name": "stderr",
     "output_type": "stream",
     "text": [
      "[I 2018-12-22 16:19:11,314] Finished a trial resulted in value: 0.21202949482841604. Current best value is 0.18394828625574822 with parameters: {'n_estimators': 734, 'feature1': 0, 'feature2': 1, 'feature3': 1, 'feature4': 0, 'feature5': 0, 'feature6': 1, 'feature7': 0, 'feature8': 0}.\n"
     ]
    },
    {
     "name": "stdout",
     "output_type": "stream",
     "text": [
      "lightgbm model (n_estimators=805.000000):\n",
      "feature_selection_vector [True, False, True, True, False, True, False, False]\n",
      "train mean accuracy: 0.961021751267047\n",
      "test mean accuracy: 0.7148670029401225\n"
     ]
    },
    {
     "name": "stderr",
     "output_type": "stream",
     "text": [
      "[I 2018-12-22 16:19:13,233] Finished a trial resulted in value: 0.2851329970598775. Current best value is 0.18394828625574822 with parameters: {'n_estimators': 734, 'feature1': 0, 'feature2': 1, 'feature3': 1, 'feature4': 0, 'feature5': 0, 'feature6': 1, 'feature7': 0, 'feature8': 0}.\n"
     ]
    },
    {
     "name": "stdout",
     "output_type": "stream",
     "text": [
      "lightgbm model (n_estimators=396.000000):\n",
      "feature_selection_vector [False, False, False, True, True, False, False, False]\n",
      "train mean accuracy: 0.667836673453661\n",
      "test mean accuracy: 0.6601231652175614\n"
     ]
    },
    {
     "name": "stderr",
     "output_type": "stream",
     "text": [
      "[I 2018-12-22 16:19:13,914] Finished a trial resulted in value: 0.3398768347824386. Current best value is 0.18394828625574822 with parameters: {'n_estimators': 734, 'feature1': 0, 'feature2': 1, 'feature3': 1, 'feature4': 0, 'feature5': 0, 'feature6': 1, 'feature7': 0, 'feature8': 0}.\n"
     ]
    },
    {
     "name": "stdout",
     "output_type": "stream",
     "text": [
      "lightgbm model (n_estimators=72.000000):\n",
      "feature_selection_vector [False, True, True, False, True, True, False, True]\n",
      "train mean accuracy: 0.8223313490729616\n",
      "test mean accuracy: 0.789388944887896\n"
     ]
    },
    {
     "name": "stderr",
     "output_type": "stream",
     "text": [
      "[I 2018-12-22 16:19:14,264] Finished a trial resulted in value: 0.21061105511210398. Current best value is 0.18394828625574822 with parameters: {'n_estimators': 734, 'feature1': 0, 'feature2': 1, 'feature3': 1, 'feature4': 0, 'feature5': 0, 'feature6': 1, 'feature7': 0, 'feature8': 0}.\n"
     ]
    },
    {
     "name": "stdout",
     "output_type": "stream",
     "text": [
      "lightgbm model (n_estimators=469.000000):\n",
      "feature_selection_vector [False, False, False, False, True, False, True, False]\n",
      "train mean accuracy: 0.7893309623940892\n",
      "test mean accuracy: 0.7626669404913337\n"
     ]
    },
    {
     "name": "stderr",
     "output_type": "stream",
     "text": [
      "[I 2018-12-22 16:19:15,073] Finished a trial resulted in value: 0.23733305950866634. Current best value is 0.18394828625574822 with parameters: {'n_estimators': 734, 'feature1': 0, 'feature2': 1, 'feature3': 1, 'feature4': 0, 'feature5': 0, 'feature6': 1, 'feature7': 0, 'feature8': 0}.\n"
     ]
    },
    {
     "name": "stdout",
     "output_type": "stream",
     "text": [
      "lightgbm model (n_estimators=857.000000):\n",
      "feature_selection_vector [False, False, False, False, False, True, True, False]\n",
      "train mean accuracy: 0.7931936991161033\n",
      "test mean accuracy: 0.7852129790098025\n"
     ]
    },
    {
     "name": "stderr",
     "output_type": "stream",
     "text": [
      "[I 2018-12-22 16:19:16,122] Finished a trial resulted in value: 0.21478702099019753. Current best value is 0.18394828625574822 with parameters: {'n_estimators': 734, 'feature1': 0, 'feature2': 1, 'feature3': 1, 'feature4': 0, 'feature5': 0, 'feature6': 1, 'feature7': 0, 'feature8': 0}.\n"
     ]
    },
    {
     "name": "stdout",
     "output_type": "stream",
     "text": [
      "lightgbm model (n_estimators=656.000000):\n",
      "feature_selection_vector [True, False, False, True, False, False, True, False]\n",
      "train mean accuracy: 0.9406572817258244\n",
      "test mean accuracy: 0.6952371971251204\n"
     ]
    },
    {
     "name": "stderr",
     "output_type": "stream",
     "text": [
      "[I 2018-12-22 16:19:17,787] Finished a trial resulted in value: 0.30476280287487956. Current best value is 0.18394828625574822 with parameters: {'n_estimators': 734, 'feature1': 0, 'feature2': 1, 'feature3': 1, 'feature4': 0, 'feature5': 0, 'feature6': 1, 'feature7': 0, 'feature8': 0}.\n"
     ]
    },
    {
     "name": "stdout",
     "output_type": "stream",
     "text": [
      "lightgbm model (n_estimators=781.000000):\n",
      "feature_selection_vector [False, False, False, False, True, True, True, False]\n",
      "train mean accuracy: 0.800569528678899\n",
      "test mean accuracy: 0.77960858440331\n"
     ]
    },
    {
     "name": "stderr",
     "output_type": "stream",
     "text": [
      "[I 2018-12-22 16:19:19,286] Finished a trial resulted in value: 0.22039141559668995. Current best value is 0.18394828625574822 with parameters: {'n_estimators': 734, 'feature1': 0, 'feature2': 1, 'feature3': 1, 'feature4': 0, 'feature5': 0, 'feature6': 1, 'feature7': 0, 'feature8': 0}.\n"
     ]
    },
    {
     "name": "stdout",
     "output_type": "stream",
     "text": [
      "lightgbm model (n_estimators=233.000000):\n",
      "feature_selection_vector [False, True, True, True, True, False, True, False]\n",
      "train mean accuracy: 0.8476124267066425\n",
      "test mean accuracy: 0.8132339740970247\n"
     ]
    },
    {
     "name": "stderr",
     "output_type": "stream",
     "text": [
      "[I 2018-12-22 16:19:19,891] Finished a trial resulted in value: 0.1867660259029753. Current best value is 0.18394828625574822 with parameters: {'n_estimators': 734, 'feature1': 0, 'feature2': 1, 'feature3': 1, 'feature4': 0, 'feature5': 0, 'feature6': 1, 'feature7': 0, 'feature8': 0}.\n"
     ]
    },
    {
     "name": "stdout",
     "output_type": "stream",
     "text": [
      "lightgbm model (n_estimators=986.000000):\n",
      "feature_selection_vector [True, True, False, False, True, True, True, False]\n",
      "train mean accuracy: 0.9926266349007893\n",
      "test mean accuracy: 0.7485324883886466\n"
     ]
    },
    {
     "name": "stderr",
     "output_type": "stream",
     "text": [
      "[I 2018-12-22 16:19:22,197] Finished a trial resulted in value: 0.2514675116113534. Current best value is 0.18394828625574822 with parameters: {'n_estimators': 734, 'feature1': 0, 'feature2': 1, 'feature3': 1, 'feature4': 0, 'feature5': 0, 'feature6': 1, 'feature7': 0, 'feature8': 0}.\n"
     ]
    },
    {
     "name": "stdout",
     "output_type": "stream",
     "text": [
      "lightgbm model (n_estimators=341.000000):\n",
      "feature_selection_vector [False, False, False, True, True, True, True, False]\n",
      "train mean accuracy: 0.8181226640851357\n",
      "test mean accuracy: 0.7794994038026701\n"
     ]
    },
    {
     "name": "stderr",
     "output_type": "stream",
     "text": [
      "[I 2018-12-22 16:19:23,172] Finished a trial resulted in value: 0.22050059619732987. Current best value is 0.18394828625574822 with parameters: {'n_estimators': 734, 'feature1': 0, 'feature2': 1, 'feature3': 1, 'feature4': 0, 'feature5': 0, 'feature6': 1, 'feature7': 0, 'feature8': 0}.\n"
     ]
    },
    {
     "name": "stdout",
     "output_type": "stream",
     "text": [
      "lightgbm model (n_estimators=54.000000):\n",
      "feature_selection_vector [True, False, False, False, True, False, True, True]\n",
      "train mean accuracy: 0.849019018757948\n",
      "test mean accuracy: 0.7556638047797772\n"
     ]
    },
    {
     "name": "stderr",
     "output_type": "stream",
     "text": [
      "[I 2018-12-22 16:19:23,526] Finished a trial resulted in value: 0.24433619522022276. Current best value is 0.18394828625574822 with parameters: {'n_estimators': 734, 'feature1': 0, 'feature2': 1, 'feature3': 1, 'feature4': 0, 'feature5': 0, 'feature6': 1, 'feature7': 0, 'feature8': 0}.\n"
     ]
    },
    {
     "name": "stdout",
     "output_type": "stream",
     "text": [
      "lightgbm model (n_estimators=465.000000):\n",
      "feature_selection_vector [True, False, False, False, False, True, True, False]\n",
      "train mean accuracy: 0.9339844485004057\n",
      "test mean accuracy: 0.7162162181041414\n"
     ]
    },
    {
     "name": "stderr",
     "output_type": "stream",
     "text": [
      "[I 2018-12-22 16:19:24,743] Finished a trial resulted in value: 0.2837837818958586. Current best value is 0.18394828625574822 with parameters: {'n_estimators': 734, 'feature1': 0, 'feature2': 1, 'feature3': 1, 'feature4': 0, 'feature5': 0, 'feature6': 1, 'feature7': 0, 'feature8': 0}.\n"
     ]
    },
    {
     "name": "stdout",
     "output_type": "stream",
     "text": [
      "lightgbm model (n_estimators=145.000000):\n",
      "feature_selection_vector [False, True, True, True, False, False, False, False]\n",
      "train mean accuracy: 0.8096917384798072\n",
      "test mean accuracy: 0.7893294299347641\n"
     ]
    },
    {
     "name": "stderr",
     "output_type": "stream",
     "text": [
      "[I 2018-12-22 16:19:25,161] Finished a trial resulted in value: 0.21067057006523593. Current best value is 0.18394828625574822 with parameters: {'n_estimators': 734, 'feature1': 0, 'feature2': 1, 'feature3': 1, 'feature4': 0, 'feature5': 0, 'feature6': 1, 'feature7': 0, 'feature8': 0}.\n"
     ]
    },
    {
     "name": "stdout",
     "output_type": "stream",
     "text": [
      "lightgbm model (n_estimators=767.000000):\n",
      "feature_selection_vector [False, False, False, True, False, True, True, True]\n",
      "train mean accuracy: 0.8086434170122396\n",
      "test mean accuracy: 0.787970505171584\n"
     ]
    },
    {
     "name": "stderr",
     "output_type": "stream",
     "text": [
      "[I 2018-12-22 16:19:26,458] Finished a trial resulted in value: 0.21202949482841604. Current best value is 0.18394828625574822 with parameters: {'n_estimators': 734, 'feature1': 0, 'feature2': 1, 'feature3': 1, 'feature4': 0, 'feature5': 0, 'feature6': 1, 'feature7': 0, 'feature8': 0}.\n"
     ]
    },
    {
     "name": "stdout",
     "output_type": "stream",
     "text": [
      "lightgbm model (n_estimators=83.000000):\n",
      "feature_selection_vector [False, False, True, False, True, False, True, True]\n",
      "train mean accuracy: 0.7984630300493385\n",
      "test mean accuracy: 0.7655235185352057\n"
     ]
    },
    {
     "name": "stderr",
     "output_type": "stream",
     "text": [
      "[I 2018-12-22 16:19:26,804] Finished a trial resulted in value: 0.23447648146479427. Current best value is 0.18394828625574822 with parameters: {'n_estimators': 734, 'feature1': 0, 'feature2': 1, 'feature3': 1, 'feature4': 0, 'feature5': 0, 'feature6': 1, 'feature7': 0, 'feature8': 0}.\n"
     ]
    },
    {
     "name": "stdout",
     "output_type": "stream",
     "text": [
      "lightgbm model (n_estimators=750.000000):\n",
      "feature_selection_vector [True, True, True, False, True, True, True, True]\n",
      "train mean accuracy: 0.992976897597812\n",
      "test mean accuracy: 0.7569834720269242\n"
     ]
    },
    {
     "name": "stderr",
     "output_type": "stream",
     "text": [
      "[I 2018-12-22 16:19:28,630] Finished a trial resulted in value: 0.24301652797307582. Current best value is 0.18394828625574822 with parameters: {'n_estimators': 734, 'feature1': 0, 'feature2': 1, 'feature3': 1, 'feature4': 0, 'feature5': 0, 'feature6': 1, 'feature7': 0, 'feature8': 0}.\n"
     ]
    },
    {
     "name": "stdout",
     "output_type": "stream",
     "text": [
      "lightgbm model (n_estimators=608.000000):\n",
      "feature_selection_vector [True, False, False, True, True, False, True, True]\n",
      "train mean accuracy: 0.983495802717206\n",
      "test mean accuracy: 0.7318286248762724\n"
     ]
    },
    {
     "name": "stderr",
     "output_type": "stream",
     "text": [
      "[I 2018-12-22 16:19:30,153] Finished a trial resulted in value: 0.2681713751237276. Current best value is 0.18394828625574822 with parameters: {'n_estimators': 734, 'feature1': 0, 'feature2': 1, 'feature3': 1, 'feature4': 0, 'feature5': 0, 'feature6': 1, 'feature7': 0, 'feature8': 0}.\n"
     ]
    },
    {
     "name": "stdout",
     "output_type": "stream",
     "text": [
      "lightgbm model (n_estimators=748.000000):\n",
      "feature_selection_vector [False, True, False, True, False, False, True, True]\n",
      "train mean accuracy: 0.828651463777434\n",
      "test mean accuracy: 0.8089195591143449\n"
     ]
    },
    {
     "name": "stderr",
     "output_type": "stream",
     "text": [
      "[I 2018-12-22 16:19:31,425] Finished a trial resulted in value: 0.19108044088565512. Current best value is 0.18394828625574822 with parameters: {'n_estimators': 734, 'feature1': 0, 'feature2': 1, 'feature3': 1, 'feature4': 0, 'feature5': 0, 'feature6': 1, 'feature7': 0, 'feature8': 0}.\n"
     ]
    },
    {
     "name": "stdout",
     "output_type": "stream",
     "text": [
      "lightgbm model (n_estimators=543.000000):\n",
      "feature_selection_vector [True, True, True, False, True, True, False, True]\n",
      "train mean accuracy: 0.9908697844722918\n",
      "test mean accuracy: 0.7344675402511782\n"
     ]
    },
    {
     "name": "stderr",
     "output_type": "stream",
     "text": [
      "[I 2018-12-22 16:19:32,832] Finished a trial resulted in value: 0.2655324597488218. Current best value is 0.18394828625574822 with parameters: {'n_estimators': 734, 'feature1': 0, 'feature2': 1, 'feature3': 1, 'feature4': 0, 'feature5': 0, 'feature6': 1, 'feature7': 0, 'feature8': 0}.\n"
     ]
    },
    {
     "name": "stdout",
     "output_type": "stream",
     "text": [
      "lightgbm model (n_estimators=682.000000):\n",
      "feature_selection_vector [True, False, True, False, False, True, True, True]\n",
      "train mean accuracy: 0.9571559399053189\n",
      "test mean accuracy: 0.6895140520252896\n"
     ]
    },
    {
     "name": "stderr",
     "output_type": "stream",
     "text": [
      "[I 2018-12-22 16:19:34,598] Finished a trial resulted in value: 0.3104859479747104. Current best value is 0.18394828625574822 with parameters: {'n_estimators': 734, 'feature1': 0, 'feature2': 1, 'feature3': 1, 'feature4': 0, 'feature5': 0, 'feature6': 1, 'feature7': 0, 'feature8': 0}.\n"
     ]
    },
    {
     "name": "stdout",
     "output_type": "stream",
     "text": [
      "lightgbm model (n_estimators=778.000000):\n",
      "feature_selection_vector [True, False, False, True, True, False, False, False]\n",
      "train mean accuracy: 0.9266104667453201\n",
      "test mean accuracy: 0.5714771792985758\n"
     ]
    },
    {
     "name": "stderr",
     "output_type": "stream",
     "text": [
      "[I 2018-12-22 16:19:37,005] Finished a trial resulted in value: 0.4285228207014242. Current best value is 0.18394828625574822 with parameters: {'n_estimators': 734, 'feature1': 0, 'feature2': 1, 'feature3': 1, 'feature4': 0, 'feature5': 0, 'feature6': 1, 'feature7': 0, 'feature8': 0}.\n"
     ]
    },
    {
     "name": "stdout",
     "output_type": "stream",
     "text": [
      "lightgbm model (n_estimators=159.000000):\n",
      "feature_selection_vector [False, False, False, False, False, False, True, False]\n",
      "train mean accuracy: 0.7868729677557554\n",
      "test mean accuracy: 0.7725761801878074\n"
     ]
    },
    {
     "name": "stderr",
     "output_type": "stream",
     "text": [
      "[I 2018-12-22 16:19:37,468] Finished a trial resulted in value: 0.22742381981219262. Current best value is 0.18394828625574822 with parameters: {'n_estimators': 734, 'feature1': 0, 'feature2': 1, 'feature3': 1, 'feature4': 0, 'feature5': 0, 'feature6': 1, 'feature7': 0, 'feature8': 0}.\n"
     ]
    },
    {
     "name": "stdout",
     "output_type": "stream",
     "text": [
      "lightgbm model (n_estimators=962.000000):\n",
      "feature_selection_vector [False, True, False, True, False, True, True, False]\n",
      "train mean accuracy: 0.8412941533301334\n",
      "test mean accuracy: 0.8173708221655479\n"
     ]
    },
    {
     "name": "stderr",
     "output_type": "stream",
     "text": [
      "[I 2018-12-22 16:19:39,596] Finished a trial resulted in value: 0.1826291778344521. Current best value is 0.1826291778344521 with parameters: {'n_estimators': 962, 'feature1': 0, 'feature2': 1, 'feature3': 0, 'feature4': 1, 'feature5': 0, 'feature6': 1, 'feature7': 1, 'feature8': 0}.\n"
     ]
    },
    {
     "name": "stdout",
     "output_type": "stream",
     "text": [
      "lightgbm model (n_estimators=646.000000):\n",
      "feature_selection_vector [True, True, False, False, False, False, False, False]\n",
      "train mean accuracy: 0.8405862453449096\n",
      "test mean accuracy: 0.6037145154316266\n"
     ]
    },
    {
     "name": "stderr",
     "output_type": "stream",
     "text": [
      "[I 2018-12-22 16:19:41,438] Finished a trial resulted in value: 0.3962854845683734. Current best value is 0.1826291778344521 with parameters: {'n_estimators': 962, 'feature1': 0, 'feature2': 1, 'feature3': 0, 'feature4': 1, 'feature5': 0, 'feature6': 1, 'feature7': 1, 'feature8': 0}.\n"
     ]
    },
    {
     "name": "stdout",
     "output_type": "stream",
     "text": [
      "lightgbm model (n_estimators=47.000000):\n",
      "feature_selection_vector [False, True, False, False, False, True, False, True]\n",
      "train mean accuracy: 0.7089127919537531\n",
      "test mean accuracy: 0.7049874508669833\n"
     ]
    },
    {
     "name": "stderr",
     "output_type": "stream",
     "text": [
      "[I 2018-12-22 16:19:41,790] Finished a trial resulted in value: 0.29501254913301667. Current best value is 0.1826291778344521 with parameters: {'n_estimators': 962, 'feature1': 0, 'feature2': 1, 'feature3': 0, 'feature4': 1, 'feature5': 0, 'feature6': 1, 'feature7': 1, 'feature8': 0}.\n"
     ]
    },
    {
     "name": "stdout",
     "output_type": "stream",
     "text": [
      "lightgbm model (n_estimators=19.000000):\n",
      "feature_selection_vector [False, False, False, True, True, True, True, False]\n",
      "train mean accuracy: 0.7959958028522008\n",
      "test mean accuracy: 0.7655236582416685\n"
     ]
    },
    {
     "name": "stderr",
     "output_type": "stream",
     "text": [
      "[I 2018-12-22 16:19:42,102] Finished a trial resulted in value: 0.23447634175833154. Current best value is 0.1826291778344521 with parameters: {'n_estimators': 962, 'feature1': 0, 'feature2': 1, 'feature3': 0, 'feature4': 1, 'feature5': 0, 'feature6': 1, 'feature7': 1, 'feature8': 0}.\n"
     ]
    },
    {
     "name": "stdout",
     "output_type": "stream",
     "text": [
      "lightgbm model (n_estimators=924.000000):\n",
      "feature_selection_vector [True, True, True, False, True, True, True, False]\n",
      "train mean accuracy: 0.9926266349007893\n",
      "test mean accuracy: 0.7485523267063572\n"
     ]
    },
    {
     "name": "stderr",
     "output_type": "stream",
     "text": [
      "[I 2018-12-22 16:19:44,556] Finished a trial resulted in value: 0.2514476732936428. Current best value is 0.1826291778344521 with parameters: {'n_estimators': 962, 'feature1': 0, 'feature2': 1, 'feature3': 0, 'feature4': 1, 'feature5': 0, 'feature6': 1, 'feature7': 1, 'feature8': 0}.\n"
     ]
    },
    {
     "name": "stdout",
     "output_type": "stream",
     "text": [
      "lightgbm model (n_estimators=813.000000):\n",
      "feature_selection_vector [True, False, False, False, False, False, True, True]\n",
      "train mean accuracy: 0.9311749600132144\n",
      "test mean accuracy: 0.6966163793253994\n"
     ]
    },
    {
     "name": "stderr",
     "output_type": "stream",
     "text": [
      "[I 2018-12-22 16:19:46,610] Finished a trial resulted in value: 0.30338362067460056. Current best value is 0.1826291778344521 with parameters: {'n_estimators': 962, 'feature1': 0, 'feature2': 1, 'feature3': 0, 'feature4': 1, 'feature5': 0, 'feature6': 1, 'feature7': 1, 'feature8': 0}.\n"
     ]
    },
    {
     "name": "stdout",
     "output_type": "stream",
     "text": [
      "lightgbm model (n_estimators=389.000000):\n",
      "feature_selection_vector [False, False, True, False, False, True, False, False]\n",
      "train mean accuracy: 0.7879249869986586\n",
      "test mean accuracy: 0.7879804941836707\n"
     ]
    },
    {
     "name": "stderr",
     "output_type": "stream",
     "text": [
      "[I 2018-12-22 16:19:47,135] Finished a trial resulted in value: 0.21201950581632933. Current best value is 0.1826291778344521 with parameters: {'n_estimators': 962, 'feature1': 0, 'feature2': 1, 'feature3': 0, 'feature4': 1, 'feature5': 0, 'feature6': 1, 'feature7': 1, 'feature8': 0}.\n"
     ]
    },
    {
     "name": "stdout",
     "output_type": "stream",
     "text": [
      "lightgbm model (n_estimators=807.000000):\n",
      "feature_selection_vector [False, True, False, False, True, True, False, True]\n",
      "train mean accuracy: 0.7317377184369793\n",
      "test mean accuracy: 0.6782356191406237\n"
     ]
    },
    {
     "name": "stderr",
     "output_type": "stream",
     "text": [
      "[I 2018-12-22 16:19:48,436] Finished a trial resulted in value: 0.3217643808593763. Current best value is 0.1826291778344521 with parameters: {'n_estimators': 962, 'feature1': 0, 'feature2': 1, 'feature3': 0, 'feature4': 1, 'feature5': 0, 'feature6': 1, 'feature7': 1, 'feature8': 0}.\n"
     ]
    },
    {
     "name": "stdout",
     "output_type": "stream",
     "text": [
      "lightgbm model (n_estimators=552.000000):\n",
      "feature_selection_vector [True, True, True, True, False, False, True, True]\n",
      "train mean accuracy: 0.9740153223325596\n",
      "test mean accuracy: 0.7500501196935121\n"
     ]
    },
    {
     "name": "stderr",
     "output_type": "stream",
     "text": [
      "[I 2018-12-22 16:19:49,814] Finished a trial resulted in value: 0.2499498803064879. Current best value is 0.1826291778344521 with parameters: {'n_estimators': 962, 'feature1': 0, 'feature2': 1, 'feature3': 0, 'feature4': 1, 'feature5': 0, 'feature6': 1, 'feature7': 1, 'feature8': 0}.\n"
     ]
    },
    {
     "name": "stdout",
     "output_type": "stream",
     "text": [
      "lightgbm model (n_estimators=454.000000):\n",
      "feature_selection_vector [False, False, False, True, False, True, True, False]\n",
      "train mean accuracy: 0.8019730374508288\n",
      "test mean accuracy: 0.7936442640368322\n"
     ]
    },
    {
     "name": "stderr",
     "output_type": "stream",
     "text": [
      "[I 2018-12-22 16:19:50,611] Finished a trial resulted in value: 0.2063557359631678. Current best value is 0.1826291778344521 with parameters: {'n_estimators': 962, 'feature1': 0, 'feature2': 1, 'feature3': 0, 'feature4': 1, 'feature5': 0, 'feature6': 1, 'feature7': 1, 'feature8': 0}.\n"
     ]
    },
    {
     "name": "stdout",
     "output_type": "stream",
     "text": [
      "lightgbm model (n_estimators=472.000000):\n",
      "feature_selection_vector [True, True, True, False, True, False, True, True]\n",
      "train mean accuracy: 0.9813886874317703\n",
      "test mean accuracy: 0.7584514376842815\n"
     ]
    },
    {
     "name": "stderr",
     "output_type": "stream",
     "text": [
      "[I 2018-12-22 16:19:51,882] Finished a trial resulted in value: 0.24154856231571853. Current best value is 0.1826291778344521 with parameters: {'n_estimators': 962, 'feature1': 0, 'feature2': 1, 'feature3': 0, 'feature4': 1, 'feature5': 0, 'feature6': 1, 'feature7': 1, 'feature8': 0}.\n"
     ]
    },
    {
     "name": "stdout",
     "output_type": "stream",
     "text": [
      "lightgbm model (n_estimators=877.000000):\n",
      "feature_selection_vector [False, True, False, False, False, False, False, False]\n",
      "train mean accuracy: 0.6741518570710477\n",
      "test mean accuracy: 0.6600048338436111\n"
     ]
    },
    {
     "name": "stderr",
     "output_type": "stream",
     "text": [
      "[I 2018-12-22 16:19:52,670] Finished a trial resulted in value: 0.3399951661563889. Current best value is 0.1826291778344521 with parameters: {'n_estimators': 962, 'feature1': 0, 'feature2': 1, 'feature3': 0, 'feature4': 1, 'feature5': 0, 'feature6': 1, 'feature7': 1, 'feature8': 0}.\n"
     ]
    },
    {
     "name": "stdout",
     "output_type": "stream",
     "text": [
      "lightgbm model (n_estimators=788.000000):\n",
      "feature_selection_vector [True, True, True, False, True, False, True, True]\n",
      "train mean accuracy: 0.983497033869041\n",
      "test mean accuracy: 0.7528176348673801\n"
     ]
    },
    {
     "name": "stderr",
     "output_type": "stream",
     "text": [
      "[I 2018-12-22 16:19:54,769] Finished a trial resulted in value: 0.24718236513261993. Current best value is 0.1826291778344521 with parameters: {'n_estimators': 962, 'feature1': 0, 'feature2': 1, 'feature3': 0, 'feature4': 1, 'feature5': 0, 'feature6': 1, 'feature7': 1, 'feature8': 0}.\n"
     ]
    },
    {
     "name": "stdout",
     "output_type": "stream",
     "text": [
      "lightgbm model (n_estimators=311.000000):\n",
      "feature_selection_vector [False, True, True, True, True, False, False, False]\n",
      "train mean accuracy: 0.8360254455325199\n",
      "test mean accuracy: 0.8118258028057248\n"
     ]
    },
    {
     "name": "stderr",
     "output_type": "stream",
     "text": [
      "[I 2018-12-22 16:19:55,654] Finished a trial resulted in value: 0.1881741971942752. Current best value is 0.1826291778344521 with parameters: {'n_estimators': 962, 'feature1': 0, 'feature2': 1, 'feature3': 0, 'feature4': 1, 'feature5': 0, 'feature6': 1, 'feature7': 1, 'feature8': 0}.\n"
     ]
    },
    {
     "name": "stdout",
     "output_type": "stream",
     "text": [
      "lightgbm model (n_estimators=252.000000):\n",
      "feature_selection_vector [False, False, True, False, False, False, True, False]\n",
      "train mean accuracy: 0.788627974696374\n",
      "test mean accuracy: 0.7795888857920623\n"
     ]
    },
    {
     "name": "stderr",
     "output_type": "stream",
     "text": [
      "[I 2018-12-22 16:19:56,184] Finished a trial resulted in value: 0.2204111142079377. Current best value is 0.1826291778344521 with parameters: {'n_estimators': 962, 'feature1': 0, 'feature2': 1, 'feature3': 0, 'feature4': 1, 'feature5': 0, 'feature6': 1, 'feature7': 1, 'feature8': 0}.\n"
     ]
    },
    {
     "name": "stdout",
     "output_type": "stream",
     "text": [
      "lightgbm model (n_estimators=270.000000):\n",
      "feature_selection_vector [True, False, False, True, False, False, False, True]\n",
      "train mean accuracy: 0.8219786305520156\n",
      "test mean accuracy: 0.577160787469448\n"
     ]
    },
    {
     "name": "stderr",
     "output_type": "stream",
     "text": [
      "[I 2018-12-22 16:19:57,232] Finished a trial resulted in value: 0.422839212530552. Current best value is 0.1826291778344521 with parameters: {'n_estimators': 962, 'feature1': 0, 'feature2': 1, 'feature3': 0, 'feature4': 1, 'feature5': 0, 'feature6': 1, 'feature7': 1, 'feature8': 0}.\n"
     ]
    },
    {
     "name": "stdout",
     "output_type": "stream",
     "text": [
      "lightgbm model (n_estimators=208.000000):\n",
      "feature_selection_vector [True, True, False, True, True, False, False, False]\n",
      "train mean accuracy: 0.8932493536587861\n",
      "test mean accuracy: 0.634622055598981\n"
     ]
    },
    {
     "name": "stderr",
     "output_type": "stream",
     "text": [
      "[I 2018-12-22 16:19:58,206] Finished a trial resulted in value: 0.365377944401019. Current best value is 0.1826291778344521 with parameters: {'n_estimators': 962, 'feature1': 0, 'feature2': 1, 'feature3': 0, 'feature4': 1, 'feature5': 0, 'feature6': 1, 'feature7': 1, 'feature8': 0}.\n"
     ]
    },
    {
     "name": "stdout",
     "output_type": "stream",
     "text": [
      "lightgbm model (n_estimators=282.000000):\n",
      "feature_selection_vector [True, False, True, False, False, True, True, False]\n",
      "train mean accuracy: 0.9199382436960301\n",
      "test mean accuracy: 0.7232884386615283\n"
     ]
    },
    {
     "name": "stderr",
     "output_type": "stream",
     "text": [
      "[I 2018-12-22 16:19:59,295] Finished a trial resulted in value: 0.27671156133847175. Current best value is 0.1826291778344521 with parameters: {'n_estimators': 962, 'feature1': 0, 'feature2': 1, 'feature3': 0, 'feature4': 1, 'feature5': 0, 'feature6': 1, 'feature7': 1, 'feature8': 0}.\n"
     ]
    },
    {
     "name": "stdout",
     "output_type": "stream",
     "text": [
      "lightgbm model (n_estimators=960.000000):\n",
      "feature_selection_vector [False, True, False, True, False, True, True, False]\n",
      "train mean accuracy: 0.8412941533301334\n",
      "test mean accuracy: 0.8173708221655479\n"
     ]
    },
    {
     "name": "stderr",
     "output_type": "stream",
     "text": [
      "[I 2018-12-22 16:20:01,215] Finished a trial resulted in value: 0.1826291778344521. Current best value is 0.1826291778344521 with parameters: {'n_estimators': 962, 'feature1': 0, 'feature2': 1, 'feature3': 0, 'feature4': 1, 'feature5': 0, 'feature6': 1, 'feature7': 1, 'feature8': 0}.\n"
     ]
    },
    {
     "name": "stdout",
     "output_type": "stream",
     "text": [
      "lightgbm model (n_estimators=392.000000):\n",
      "feature_selection_vector [True, True, False, True, True, False, False, False]\n",
      "train mean accuracy: 0.9329262734983281\n",
      "test mean accuracy: 0.6121752086690654\n"
     ]
    },
    {
     "name": "stderr",
     "output_type": "stream",
     "text": [
      "[I 2018-12-22 16:20:02,456] Finished a trial resulted in value: 0.3878247913309346. Current best value is 0.1826291778344521 with parameters: {'n_estimators': 962, 'feature1': 0, 'feature2': 1, 'feature3': 0, 'feature4': 1, 'feature5': 0, 'feature6': 1, 'feature7': 1, 'feature8': 0}.\n"
     ]
    },
    {
     "name": "stdout",
     "output_type": "stream",
     "text": [
      "lightgbm model (n_estimators=675.000000):\n",
      "feature_selection_vector [False, False, False, True, False, True, False, True]\n",
      "train mean accuracy: 0.6604645373463699\n",
      "test mean accuracy: 0.6193657606004025\n"
     ]
    },
    {
     "name": "stderr",
     "output_type": "stream",
     "text": [
      "[I 2018-12-22 16:20:03,513] Finished a trial resulted in value: 0.3806342393995975. Current best value is 0.1826291778344521 with parameters: {'n_estimators': 962, 'feature1': 0, 'feature2': 1, 'feature3': 0, 'feature4': 1, 'feature5': 0, 'feature6': 1, 'feature7': 1, 'feature8': 0}.\n"
     ]
    },
    {
     "name": "stdout",
     "output_type": "stream",
     "text": [
      "lightgbm model (n_estimators=145.000000):\n",
      "feature_selection_vector [True, True, True, True, True, False, True, False]\n",
      "train mean accuracy: 0.9536459281839976\n",
      "test mean accuracy: 0.7837748406822426\n"
     ]
    },
    {
     "name": "stderr",
     "output_type": "stream",
     "text": [
      "[I 2018-12-22 16:20:04,079] Finished a trial resulted in value: 0.21622515931775743. Current best value is 0.1826291778344521 with parameters: {'n_estimators': 962, 'feature1': 0, 'feature2': 1, 'feature3': 0, 'feature4': 1, 'feature5': 0, 'feature6': 1, 'feature7': 1, 'feature8': 0}.\n"
     ]
    },
    {
     "name": "stdout",
     "output_type": "stream",
     "text": [
      "lightgbm model (n_estimators=186.000000):\n",
      "feature_selection_vector [True, False, False, True, False, False, False, True]\n",
      "train mean accuracy: 0.8040703056815011\n",
      "test mean accuracy: 0.5828145683105227\n"
     ]
    },
    {
     "name": "stderr",
     "output_type": "stream",
     "text": [
      "[I 2018-12-22 16:20:04,694] Finished a trial resulted in value: 0.4171854316894773. Current best value is 0.1826291778344521 with parameters: {'n_estimators': 962, 'feature1': 0, 'feature2': 1, 'feature3': 0, 'feature4': 1, 'feature5': 0, 'feature6': 1, 'feature7': 1, 'feature8': 0}.\n"
     ]
    },
    {
     "name": "stdout",
     "output_type": "stream",
     "text": [
      "lightgbm model (n_estimators=668.000000):\n",
      "feature_selection_vector [True, False, True, False, True, True, False, False]\n",
      "train mean accuracy: 0.9659402006874688\n",
      "test mean accuracy: 0.707755245453777\n"
     ]
    },
    {
     "name": "stderr",
     "output_type": "stream",
     "text": [
      "[I 2018-12-22 16:20:06,399] Finished a trial resulted in value: 0.292244754546223. Current best value is 0.1826291778344521 with parameters: {'n_estimators': 962, 'feature1': 0, 'feature2': 1, 'feature3': 0, 'feature4': 1, 'feature5': 0, 'feature6': 1, 'feature7': 1, 'feature8': 0}.\n"
     ]
    },
    {
     "name": "stdout",
     "output_type": "stream",
     "text": [
      "lightgbm model (n_estimators=826.000000):\n",
      "feature_selection_vector [False, True, False, True, True, True, False, False]\n",
      "train mean accuracy: 0.751752539777139\n",
      "test mean accuracy: 0.6937197055267179\n"
     ]
    },
    {
     "name": "stderr",
     "output_type": "stream",
     "text": [
      "[I 2018-12-22 16:20:08,108] Finished a trial resulted in value: 0.3062802944732821. Current best value is 0.1826291778344521 with parameters: {'n_estimators': 962, 'feature1': 0, 'feature2': 1, 'feature3': 0, 'feature4': 1, 'feature5': 0, 'feature6': 1, 'feature7': 1, 'feature8': 0}.\n"
     ]
    },
    {
     "name": "stdout",
     "output_type": "stream",
     "text": [
      "lightgbm model (n_estimators=738.000000):\n",
      "feature_selection_vector [False, True, True, False, True, False, True, True]\n",
      "train mean accuracy: 0.8402390637673471\n",
      "test mean accuracy: 0.786531808018173\n"
     ]
    },
    {
     "name": "stderr",
     "output_type": "stream",
     "text": [
      "[I 2018-12-22 16:20:09,561] Finished a trial resulted in value: 0.21346819198182698. Current best value is 0.1826291778344521 with parameters: {'n_estimators': 962, 'feature1': 0, 'feature2': 1, 'feature3': 0, 'feature4': 1, 'feature5': 0, 'feature6': 1, 'feature7': 1, 'feature8': 0}.\n"
     ]
    },
    {
     "name": "stdout",
     "output_type": "stream",
     "text": [
      "lightgbm model (n_estimators=213.000000):\n",
      "feature_selection_vector [True, False, True, False, False, True, False, False]\n",
      "train mean accuracy: 0.8799110611594653\n",
      "test mean accuracy: 0.7232386333075576\n"
     ]
    },
    {
     "name": "stderr",
     "output_type": "stream",
     "text": [
      "[I 2018-12-22 16:20:10,349] Finished a trial resulted in value: 0.27676136669244245. Current best value is 0.1826291778344521 with parameters: {'n_estimators': 962, 'feature1': 0, 'feature2': 1, 'feature3': 0, 'feature4': 1, 'feature5': 0, 'feature6': 1, 'feature7': 1, 'feature8': 0}.\n"
     ]
    },
    {
     "name": "stdout",
     "output_type": "stream",
     "text": [
      "lightgbm model (n_estimators=149.000000):\n",
      "feature_selection_vector [True, True, False, True, True, False, False, False]\n",
      "train mean accuracy: 0.8704275018152738\n",
      "test mean accuracy: 0.6374689240436918\n"
     ]
    },
    {
     "name": "stderr",
     "output_type": "stream",
     "text": [
      "[I 2018-12-22 16:20:11,024] Finished a trial resulted in value: 0.3625310759563082. Current best value is 0.1826291778344521 with parameters: {'n_estimators': 962, 'feature1': 0, 'feature2': 1, 'feature3': 0, 'feature4': 1, 'feature5': 0, 'feature6': 1, 'feature7': 1, 'feature8': 0}.\n"
     ]
    },
    {
     "name": "stdout",
     "output_type": "stream",
     "text": [
      "lightgbm model (n_estimators=339.000000):\n",
      "feature_selection_vector [False, True, False, True, True, False, True, True]\n",
      "train mean accuracy: 0.8514745467727811\n",
      "test mean accuracy: 0.7977802738665789\n"
     ]
    },
    {
     "name": "stderr",
     "output_type": "stream",
     "text": [
      "[I 2018-12-22 16:20:11,798] Finished a trial resulted in value: 0.2022197261334211. Current best value is 0.1826291778344521 with parameters: {'n_estimators': 962, 'feature1': 0, 'feature2': 1, 'feature3': 0, 'feature4': 1, 'feature5': 0, 'feature6': 1, 'feature7': 1, 'feature8': 0}.\n"
     ]
    },
    {
     "name": "stdout",
     "output_type": "stream",
     "text": [
      "lightgbm model (n_estimators=466.000000):\n",
      "feature_selection_vector [False, True, True, False, False, True, True, False]\n",
      "train mean accuracy: 0.8279540151830179\n",
      "test mean accuracy: 0.8160912506732105\n"
     ]
    },
    {
     "name": "stderr",
     "output_type": "stream",
     "text": [
      "[I 2018-12-22 16:20:12,654] Finished a trial resulted in value: 0.18390874932678947. Current best value is 0.1826291778344521 with parameters: {'n_estimators': 962, 'feature1': 0, 'feature2': 1, 'feature3': 0, 'feature4': 1, 'feature5': 0, 'feature6': 1, 'feature7': 1, 'feature8': 0}.\n"
     ]
    },
    {
     "name": "stdout",
     "output_type": "stream",
     "text": [
      "lightgbm model (n_estimators=39.000000):\n",
      "feature_selection_vector [True, True, True, False, False, False, True, True]\n",
      "train mean accuracy: 0.8616592395272313\n",
      "test mean accuracy: 0.792156599768227\n"
     ]
    },
    {
     "name": "stderr",
     "output_type": "stream",
     "text": [
      "[I 2018-12-22 16:20:13,001] Finished a trial resulted in value: 0.20784340023177295. Current best value is 0.1826291778344521 with parameters: {'n_estimators': 962, 'feature1': 0, 'feature2': 1, 'feature3': 0, 'feature4': 1, 'feature5': 0, 'feature6': 1, 'feature7': 1, 'feature8': 0}.\n"
     ]
    },
    {
     "name": "stdout",
     "output_type": "stream",
     "text": [
      "lightgbm model (n_estimators=969.000000):\n",
      "feature_selection_vector [True, False, True, True, True, False, True, False]\n",
      "train mean accuracy: 0.9792821888022096\n",
      "test mean accuracy: 0.717684044055036\n"
     ]
    },
    {
     "name": "stderr",
     "output_type": "stream",
     "text": [
      "[I 2018-12-22 16:20:15,469] Finished a trial resulted in value: 0.28231595594496395. Current best value is 0.1826291778344521 with parameters: {'n_estimators': 962, 'feature1': 0, 'feature2': 1, 'feature3': 0, 'feature4': 1, 'feature5': 0, 'feature6': 1, 'feature7': 1, 'feature8': 0}.\n"
     ]
    },
    {
     "name": "stdout",
     "output_type": "stream",
     "text": [
      "lightgbm model (n_estimators=851.000000):\n",
      "feature_selection_vector [False, True, False, False, False, False, False, False]\n",
      "train mean accuracy: 0.6741518570710477\n",
      "test mean accuracy: 0.6600048338436111\n"
     ]
    },
    {
     "name": "stderr",
     "output_type": "stream",
     "text": [
      "[I 2018-12-22 16:20:16,320] Finished a trial resulted in value: 0.3399951661563889. Current best value is 0.1826291778344521 with parameters: {'n_estimators': 962, 'feature1': 0, 'feature2': 1, 'feature3': 0, 'feature4': 1, 'feature5': 0, 'feature6': 1, 'feature7': 1, 'feature8': 0}.\n"
     ]
    },
    {
     "name": "stdout",
     "output_type": "stream",
     "text": [
      "lightgbm model (n_estimators=328.000000):\n",
      "feature_selection_vector [True, False, False, False, True, False, True, True]\n",
      "train mean accuracy: 0.9596200924627427\n",
      "test mean accuracy: 0.7148968302699199\n"
     ]
    },
    {
     "name": "stderr",
     "output_type": "stream",
     "text": [
      "[I 2018-12-22 16:20:17,418] Finished a trial resulted in value: 0.2851031697300801. Current best value is 0.1826291778344521 with parameters: {'n_estimators': 962, 'feature1': 0, 'feature2': 1, 'feature3': 0, 'feature4': 1, 'feature5': 0, 'feature6': 1, 'feature7': 1, 'feature8': 0}.\n"
     ]
    },
    {
     "name": "stdout",
     "output_type": "stream",
     "text": [
      "lightgbm model (n_estimators=112.000000):\n",
      "feature_selection_vector [False, True, False, True, True, False, False, False]\n",
      "train mean accuracy: 0.7247127660671658\n",
      "test mean accuracy: 0.6950987480205341\n"
     ]
    },
    {
     "name": "stderr",
     "output_type": "stream",
     "text": [
      "[I 2018-12-22 16:20:17,912] Finished a trial resulted in value: 0.30490125197946594. Current best value is 0.1826291778344521 with parameters: {'n_estimators': 962, 'feature1': 0, 'feature2': 1, 'feature3': 0, 'feature4': 1, 'feature5': 0, 'feature6': 1, 'feature7': 1, 'feature8': 0}.\n"
     ]
    },
    {
     "name": "stdout",
     "output_type": "stream",
     "text": [
      "lightgbm model (n_estimators=948.000000):\n",
      "feature_selection_vector [False, False, True, False, False, False, False, True]\n",
      "train mean accuracy: 0.7879249869986586\n",
      "test mean accuracy: 0.7879804941836707\n"
     ]
    },
    {
     "name": "stderr",
     "output_type": "stream",
     "text": [
      "[I 2018-12-22 16:20:19,023] Finished a trial resulted in value: 0.21201950581632933. Current best value is 0.1826291778344521 with parameters: {'n_estimators': 962, 'feature1': 0, 'feature2': 1, 'feature3': 0, 'feature4': 1, 'feature5': 0, 'feature6': 1, 'feature7': 1, 'feature8': 0}.\n"
     ]
    },
    {
     "name": "stdout",
     "output_type": "stream",
     "text": [
      "lightgbm model (n_estimators=999.000000):\n",
      "feature_selection_vector [False, True, True, True, False, False, False, True]\n",
      "train mean accuracy: 0.8202254627794453\n",
      "test mean accuracy: 0.8117864055832291\n"
     ]
    },
    {
     "name": "stderr",
     "output_type": "stream",
     "text": [
      "[I 2018-12-22 16:20:20,711] Finished a trial resulted in value: 0.18821359441677088. Current best value is 0.1826291778344521 with parameters: {'n_estimators': 962, 'feature1': 0, 'feature2': 1, 'feature3': 0, 'feature4': 1, 'feature5': 0, 'feature6': 1, 'feature7': 1, 'feature8': 0}.\n"
     ]
    },
    {
     "name": "stdout",
     "output_type": "stream",
     "text": [
      "lightgbm model (n_estimators=524.000000):\n",
      "feature_selection_vector [True, True, False, True, False, True, True, False]\n",
      "train mean accuracy: 0.9831449233643081\n",
      "test mean accuracy: 0.74428729795826\n"
     ]
    },
    {
     "name": "stderr",
     "output_type": "stream",
     "text": [
      "[I 2018-12-22 16:20:22,081] Finished a trial resulted in value: 0.25571270204174. Current best value is 0.1826291778344521 with parameters: {'n_estimators': 962, 'feature1': 0, 'feature2': 1, 'feature3': 0, 'feature4': 1, 'feature5': 0, 'feature6': 1, 'feature7': 1, 'feature8': 0}.\n"
     ]
    },
    {
     "name": "stdout",
     "output_type": "stream",
     "text": [
      "lightgbm model (n_estimators=331.000000):\n",
      "feature_selection_vector [False, False, True, True, False, True, False, True]\n",
      "train mean accuracy: 0.7974060840391802\n",
      "test mean accuracy: 0.7865917420906932\n"
     ]
    },
    {
     "name": "stderr",
     "output_type": "stream",
     "text": [
      "[I 2018-12-22 16:20:22,816] Finished a trial resulted in value: 0.21340825790930684. Current best value is 0.1826291778344521 with parameters: {'n_estimators': 962, 'feature1': 0, 'feature2': 1, 'feature3': 0, 'feature4': 1, 'feature5': 0, 'feature6': 1, 'feature7': 1, 'feature8': 0}.\n"
     ]
    },
    {
     "name": "stdout",
     "output_type": "stream",
     "text": [
      "lightgbm model (n_estimators=60.000000):\n",
      "feature_selection_vector [True, False, True, False, True, False, True, False]\n",
      "train mean accuracy: 0.8532301725291903\n",
      "test mean accuracy: 0.7556542348870787\n"
     ]
    },
    {
     "name": "stderr",
     "output_type": "stream",
     "text": [
      "[I 2018-12-22 16:20:23,256] Finished a trial resulted in value: 0.24434576511292128. Current best value is 0.1826291778344521 with parameters: {'n_estimators': 962, 'feature1': 0, 'feature2': 1, 'feature3': 0, 'feature4': 1, 'feature5': 0, 'feature6': 1, 'feature7': 1, 'feature8': 0}.\n"
     ]
    },
    {
     "name": "stdout",
     "output_type": "stream",
     "text": [
      "lightgbm model (n_estimators=635.000000):\n",
      "feature_selection_vector [False, True, False, True, True, True, False, True]\n",
      "train mean accuracy: 0.7643915358743334\n",
      "test mean accuracy: 0.6825310340443693\n"
     ]
    },
    {
     "name": "stderr",
     "output_type": "stream",
     "text": [
      "[I 2018-12-22 16:20:24,656] Finished a trial resulted in value: 0.3174689659556307. Current best value is 0.1826291778344521 with parameters: {'n_estimators': 962, 'feature1': 0, 'feature2': 1, 'feature3': 0, 'feature4': 1, 'feature5': 0, 'feature6': 1, 'feature7': 1, 'feature8': 0}.\n"
     ]
    },
    {
     "name": "stdout",
     "output_type": "stream",
     "text": [
      "lightgbm model (n_estimators=679.000000):\n",
      "feature_selection_vector [True, False, True, False, True, True, True, False]\n",
      "train mean accuracy: 0.9799839431881745\n",
      "test mean accuracy: 0.7078144809939836\n"
     ]
    },
    {
     "name": "stderr",
     "output_type": "stream",
     "text": [
      "[I 2018-12-22 16:20:26,633] Finished a trial resulted in value: 0.2921855190060164. Current best value is 0.1826291778344521 with parameters: {'n_estimators': 962, 'feature1': 0, 'feature2': 1, 'feature3': 0, 'feature4': 1, 'feature5': 0, 'feature6': 1, 'feature7': 1, 'feature8': 0}.\n"
     ]
    },
    {
     "name": "stdout",
     "output_type": "stream",
     "text": [
      "lightgbm model (n_estimators=595.000000):\n",
      "feature_selection_vector [True, True, False, False, False, False, False, False]\n",
      "train mean accuracy: 0.8370725401680834\n",
      "test mean accuracy: 0.6065314168400773\n"
     ]
    },
    {
     "name": "stderr",
     "output_type": "stream",
     "text": [
      "[I 2018-12-22 16:20:28,286] Finished a trial resulted in value: 0.3934685831599227. Current best value is 0.1826291778344521 with parameters: {'n_estimators': 962, 'feature1': 0, 'feature2': 1, 'feature3': 0, 'feature4': 1, 'feature5': 0, 'feature6': 1, 'feature7': 1, 'feature8': 0}.\n"
     ]
    },
    {
     "name": "stdout",
     "output_type": "stream",
     "text": [
      "lightgbm model (n_estimators=137.000000):\n",
      "feature_selection_vector [False, True, True, False, False, False, False, False]\n",
      "train mean accuracy: 0.793188160012804\n",
      "test mean accuracy: 0.7837250353282718\n"
     ]
    },
    {
     "name": "stderr",
     "output_type": "stream",
     "text": [
      "[I 2018-12-22 16:20:28,667] Finished a trial resulted in value: 0.21627496467172824. Current best value is 0.1826291778344521 with parameters: {'n_estimators': 962, 'feature1': 0, 'feature2': 1, 'feature3': 0, 'feature4': 1, 'feature5': 0, 'feature6': 1, 'feature7': 1, 'feature8': 0}.\n"
     ]
    },
    {
     "name": "stdout",
     "output_type": "stream",
     "text": [
      "lightgbm model (n_estimators=119.000000):\n",
      "feature_selection_vector [False, False, False, True, True, False, False, False]\n",
      "train mean accuracy: 0.667836673453661\n",
      "test mean accuracy: 0.6601231652175614\n"
     ]
    },
    {
     "name": "stderr",
     "output_type": "stream",
     "text": [
      "[I 2018-12-22 16:20:29,078] Finished a trial resulted in value: 0.3398768347824386. Current best value is 0.1826291778344521 with parameters: {'n_estimators': 962, 'feature1': 0, 'feature2': 1, 'feature3': 0, 'feature4': 1, 'feature5': 0, 'feature6': 1, 'feature7': 1, 'feature8': 0}.\n"
     ]
    },
    {
     "name": "stdout",
     "output_type": "stream",
     "text": [
      "lightgbm model (n_estimators=436.000000):\n",
      "feature_selection_vector [True, True, True, True, False, False, True, True]\n",
      "train mean accuracy: 0.9740153223325596\n",
      "test mean accuracy: 0.7500501196935121\n"
     ]
    },
    {
     "name": "stderr",
     "output_type": "stream",
     "text": [
      "[I 2018-12-22 16:20:30,255] Finished a trial resulted in value: 0.2499498803064879. Current best value is 0.1826291778344521 with parameters: {'n_estimators': 962, 'feature1': 0, 'feature2': 1, 'feature3': 0, 'feature4': 1, 'feature5': 0, 'feature6': 1, 'feature7': 1, 'feature8': 0}.\n"
     ]
    },
    {
     "name": "stdout",
     "output_type": "stream",
     "text": [
      "lightgbm model (n_estimators=934.000000):\n",
      "feature_selection_vector [True, False, True, False, True, True, True, True]\n",
      "train mean accuracy: 0.9845478198001938\n",
      "test mean accuracy: 0.7077847933706488\n"
     ]
    },
    {
     "name": "stderr",
     "output_type": "stream",
     "text": [
      "[I 2018-12-22 16:20:32,891] Finished a trial resulted in value: 0.2922152066293512. Current best value is 0.1826291778344521 with parameters: {'n_estimators': 962, 'feature1': 0, 'feature2': 1, 'feature3': 0, 'feature4': 1, 'feature5': 0, 'feature6': 1, 'feature7': 1, 'feature8': 0}.\n"
     ]
    },
    {
     "name": "stdout",
     "output_type": "stream",
     "text": [
      "lightgbm model (n_estimators=742.000000):\n",
      "feature_selection_vector [True, False, False, False, False, False, True, False]\n",
      "train mean accuracy: 0.9016808894402433\n",
      "test mean accuracy: 0.7162858617758229\n"
     ]
    },
    {
     "name": "stderr",
     "output_type": "stream",
     "text": [
      "[I 2018-12-22 16:20:35,080] Finished a trial resulted in value: 0.2837141382241771. Current best value is 0.1826291778344521 with parameters: {'n_estimators': 962, 'feature1': 0, 'feature2': 1, 'feature3': 0, 'feature4': 1, 'feature5': 0, 'feature6': 1, 'feature7': 1, 'feature8': 0}.\n"
     ]
    },
    {
     "name": "stdout",
     "output_type": "stream",
     "text": [
      "lightgbm model (n_estimators=481.000000):\n",
      "feature_selection_vector [False, False, False, False, False, True, False, False]\n",
      "train mean accuracy: 0.6390455905784054\n",
      "test mean accuracy: 0.6390550813685365\n"
     ]
    },
    {
     "name": "stderr",
     "output_type": "stream",
     "text": [
      "[I 2018-12-22 16:20:35,935] Finished a trial resulted in value: 0.3609449186314635. Current best value is 0.1826291778344521 with parameters: {'n_estimators': 962, 'feature1': 0, 'feature2': 1, 'feature3': 0, 'feature4': 1, 'feature5': 0, 'feature6': 1, 'feature7': 1, 'feature8': 0}.\n"
     ]
    },
    {
     "name": "stdout",
     "output_type": "stream",
     "text": [
      "lightgbm model (n_estimators=5.000000):\n",
      "feature_selection_vector [True, False, True, False, False, False, False, True]\n",
      "train mean accuracy: 0.772128704180835\n",
      "test mean accuracy: 0.7414996650537556\n"
     ]
    },
    {
     "name": "stderr",
     "output_type": "stream",
     "text": [
      "[I 2018-12-22 16:20:36,359] Finished a trial resulted in value: 0.25850033494624436. Current best value is 0.1826291778344521 with parameters: {'n_estimators': 962, 'feature1': 0, 'feature2': 1, 'feature3': 0, 'feature4': 1, 'feature5': 0, 'feature6': 1, 'feature7': 1, 'feature8': 0}.\n"
     ]
    },
    {
     "name": "stdout",
     "output_type": "stream",
     "text": [
      "lightgbm model (n_estimators=458.000000):\n",
      "feature_selection_vector [False, True, False, True, True, True, False, True]\n",
      "train mean accuracy: 0.7629880227825726\n",
      "test mean accuracy: 0.6825111957266587\n"
     ]
    },
    {
     "name": "stderr",
     "output_type": "stream",
     "text": [
      "[I 2018-12-22 16:20:37,935] Finished a trial resulted in value: 0.31748880427334125. Current best value is 0.1826291778344521 with parameters: {'n_estimators': 962, 'feature1': 0, 'feature2': 1, 'feature3': 0, 'feature4': 1, 'feature5': 0, 'feature6': 1, 'feature7': 1, 'feature8': 0}.\n"
     ]
    },
    {
     "name": "stdout",
     "output_type": "stream",
     "text": [
      "lightgbm model (n_estimators=87.000000):\n",
      "feature_selection_vector [True, True, False, True, False, False, False, True]\n",
      "train mean accuracy: 0.8181078945829482\n",
      "test mean accuracy: 0.6417535116965744\n"
     ]
    },
    {
     "name": "stderr",
     "output_type": "stream",
     "text": [
      "[I 2018-12-22 16:20:38,664] Finished a trial resulted in value: 0.35824648830342565. Current best value is 0.1826291778344521 with parameters: {'n_estimators': 962, 'feature1': 0, 'feature2': 1, 'feature3': 0, 'feature4': 1, 'feature5': 0, 'feature6': 1, 'feature7': 1, 'feature8': 0}.\n"
     ]
    },
    {
     "name": "stdout",
     "output_type": "stream",
     "text": [
      "lightgbm model (n_estimators=467.000000):\n",
      "feature_selection_vector [True, True, True, True, True, False, False, True]\n",
      "train mean accuracy: 0.9884117898339582\n",
      "test mean accuracy: 0.765563195170627\n"
     ]
    },
    {
     "name": "stderr",
     "output_type": "stream",
     "text": [
      "[I 2018-12-22 16:20:40,435] Finished a trial resulted in value: 0.234436804829373. Current best value is 0.1826291778344521 with parameters: {'n_estimators': 962, 'feature1': 0, 'feature2': 1, 'feature3': 0, 'feature4': 1, 'feature5': 0, 'feature6': 1, 'feature7': 1, 'feature8': 0}.\n"
     ]
    },
    {
     "name": "stdout",
     "output_type": "stream",
     "text": [
      "lightgbm model (n_estimators=244.000000):\n",
      "feature_selection_vector [True, True, False, True, False, False, False, False]\n",
      "train mean accuracy: 0.8556844650723574\n",
      "test mean accuracy: 0.6080587577441039\n"
     ]
    },
    {
     "name": "stderr",
     "output_type": "stream",
     "text": [
      "[I 2018-12-22 16:20:41,468] Finished a trial resulted in value: 0.3919412422558961. Current best value is 0.1826291778344521 with parameters: {'n_estimators': 962, 'feature1': 0, 'feature2': 1, 'feature3': 0, 'feature4': 1, 'feature5': 0, 'feature6': 1, 'feature7': 1, 'feature8': 0}.\n"
     ]
    },
    {
     "name": "stdout",
     "output_type": "stream",
     "text": [
      "lightgbm model (n_estimators=92.000000):\n",
      "feature_selection_vector [False, False, False, False, True, True, False, False]\n",
      "train mean accuracy: 0.6685427357910905\n",
      "test mean accuracy: 0.6587743691729309\n"
     ]
    },
    {
     "name": "stderr",
     "output_type": "stream",
     "text": [
      "[I 2018-12-22 16:20:41,959] Finished a trial resulted in value: 0.34122563082706914. Current best value is 0.1826291778344521 with parameters: {'n_estimators': 962, 'feature1': 0, 'feature2': 1, 'feature3': 0, 'feature4': 1, 'feature5': 0, 'feature6': 1, 'feature7': 1, 'feature8': 0}.\n"
     ]
    },
    {
     "name": "stdout",
     "output_type": "stream",
     "text": [
      "lightgbm model (n_estimators=216.000000):\n",
      "feature_selection_vector [True, True, True, False, True, False, False, True]\n",
      "train mean accuracy: 0.9571559377454035\n",
      "test mean accuracy: 0.7597903844232882\n"
     ]
    },
    {
     "name": "stderr",
     "output_type": "stream",
     "text": [
      "[I 2018-12-22 16:20:42,965] Finished a trial resulted in value: 0.24020961557671183. Current best value is 0.1826291778344521 with parameters: {'n_estimators': 962, 'feature1': 0, 'feature2': 1, 'feature3': 0, 'feature4': 1, 'feature5': 0, 'feature6': 1, 'feature7': 1, 'feature8': 0}.\n"
     ]
    },
    {
     "name": "stdout",
     "output_type": "stream",
     "text": [
      "lightgbm model (n_estimators=171.000000):\n",
      "feature_selection_vector [True, True, False, False, True, False, True, True]\n",
      "train mean accuracy: 0.9536514672872969\n",
      "test mean accuracy: 0.7781012215234571\n"
     ]
    },
    {
     "name": "stderr",
     "output_type": "stream",
     "text": [
      "[I 2018-12-22 16:20:43,678] Finished a trial resulted in value: 0.22189877847654293. Current best value is 0.1826291778344521 with parameters: {'n_estimators': 962, 'feature1': 0, 'feature2': 1, 'feature3': 0, 'feature4': 1, 'feature5': 0, 'feature6': 1, 'feature7': 1, 'feature8': 0}.\n"
     ]
    },
    {
     "name": "stdout",
     "output_type": "stream",
     "text": [
      "lightgbm model (n_estimators=161.000000):\n",
      "feature_selection_vector [True, True, True, False, True, False, False, True]\n",
      "train mean accuracy: 0.9357357533458576\n",
      "test mean accuracy: 0.7695706052014113\n"
     ]
    },
    {
     "name": "stderr",
     "output_type": "stream",
     "text": [
      "[I 2018-12-22 16:20:44,377] Finished a trial resulted in value: 0.2304293947985887. Current best value is 0.1826291778344521 with parameters: {'n_estimators': 962, 'feature1': 0, 'feature2': 1, 'feature3': 0, 'feature4': 1, 'feature5': 0, 'feature6': 1, 'feature7': 1, 'feature8': 0}.\n"
     ]
    },
    {
     "name": "stdout",
     "output_type": "stream",
     "text": [
      "lightgbm model (n_estimators=786.000000):\n",
      "feature_selection_vector [True, False, False, True, True, False, True, False]\n",
      "train mean accuracy: 0.9785792011044944\n",
      "test mean accuracy: 0.7205507508174575\n"
     ]
    },
    {
     "name": "stderr",
     "output_type": "stream",
     "text": [
      "[I 2018-12-22 16:20:46,684] Finished a trial resulted in value: 0.27944924918254255. Current best value is 0.1826291778344521 with parameters: {'n_estimators': 962, 'feature1': 0, 'feature2': 1, 'feature3': 0, 'feature4': 1, 'feature5': 0, 'feature6': 1, 'feature7': 1, 'feature8': 0}.\n"
     ]
    },
    {
     "name": "stdout",
     "output_type": "stream",
     "text": [
      "lightgbm model (n_estimators=131.000000):\n",
      "feature_selection_vector [True, True, True, True, True, False, True, True]\n",
      "train mean accuracy: 0.9557542703014373\n",
      "test mean accuracy: 0.7851834310929307\n"
     ]
    },
    {
     "name": "stderr",
     "output_type": "stream",
     "text": [
      "[I 2018-12-22 16:20:47,297] Finished a trial resulted in value: 0.21481656890706935. Current best value is 0.1826291778344521 with parameters: {'n_estimators': 962, 'feature1': 0, 'feature2': 1, 'feature3': 0, 'feature4': 1, 'feature5': 0, 'feature6': 1, 'feature7': 1, 'feature8': 0}.\n"
     ]
    },
    {
     "name": "stdout",
     "output_type": "stream",
     "text": [
      "lightgbm model (n_estimators=582.000000):\n",
      "feature_selection_vector [False, False, False, True, True, False, False, False]\n",
      "train mean accuracy: 0.667836673453661\n",
      "test mean accuracy: 0.6601231652175614\n"
     ]
    },
    {
     "name": "stderr",
     "output_type": "stream",
     "text": [
      "[I 2018-12-22 16:20:48,232] Finished a trial resulted in value: 0.3398768347824386. Current best value is 0.1826291778344521 with parameters: {'n_estimators': 962, 'feature1': 0, 'feature2': 1, 'feature3': 0, 'feature4': 1, 'feature5': 0, 'feature6': 1, 'feature7': 1, 'feature8': 0}.\n"
     ]
    },
    {
     "name": "stdout",
     "output_type": "stream",
     "text": [
      "lightgbm model (n_estimators=896.000000):\n",
      "feature_selection_vector [False, True, False, False, False, False, True, False]\n",
      "train mean accuracy: 0.8033710135992059\n",
      "test mean accuracy: 0.8033745397545218\n"
     ]
    },
    {
     "name": "stderr",
     "output_type": "stream",
     "text": [
      "[I 2018-12-22 16:20:49,467] Finished a trial resulted in value: 0.19662546024547822. Current best value is 0.1826291778344521 with parameters: {'n_estimators': 962, 'feature1': 0, 'feature2': 1, 'feature3': 0, 'feature4': 1, 'feature5': 0, 'feature6': 1, 'feature7': 1, 'feature8': 0}.\n"
     ]
    },
    {
     "name": "stdout",
     "output_type": "stream",
     "text": [
      "lightgbm model (n_estimators=792.000000):\n",
      "feature_selection_vector [False, False, False, False, True, True, False, True]\n",
      "train mean accuracy: 0.6766147784766364\n",
      "test mean accuracy: 0.6446394979508555\n"
     ]
    },
    {
     "name": "stderr",
     "output_type": "stream",
     "text": [
      "[I 2018-12-22 16:20:50,775] Finished a trial resulted in value: 0.3553605020491445. Current best value is 0.1826291778344521 with parameters: {'n_estimators': 962, 'feature1': 0, 'feature2': 1, 'feature3': 0, 'feature4': 1, 'feature5': 0, 'feature6': 1, 'feature7': 1, 'feature8': 0}.\n"
     ]
    },
    {
     "name": "stdout",
     "output_type": "stream",
     "text": [
      "lightgbm model (n_estimators=352.000000):\n",
      "feature_selection_vector [False, True, True, False, True, True, False, True]\n",
      "train mean accuracy: 0.8311100729117274\n",
      "test mean accuracy: 0.7809476708487796\n"
     ]
    },
    {
     "name": "stderr",
     "output_type": "stream",
     "text": [
      "[I 2018-12-22 16:20:51,746] Finished a trial resulted in value: 0.21905232915122042. Current best value is 0.1826291778344521 with parameters: {'n_estimators': 962, 'feature1': 0, 'feature2': 1, 'feature3': 0, 'feature4': 1, 'feature5': 0, 'feature6': 1, 'feature7': 1, 'feature8': 0}.\n"
     ]
    },
    {
     "name": "stdout",
     "output_type": "stream",
     "text": [
      "lightgbm model (n_estimators=584.000000):\n",
      "feature_selection_vector [False, True, False, False, True, True, True, False]\n",
      "train mean accuracy: 0.8469143636162665\n",
      "test mean accuracy: 0.8104370507127474\n"
     ]
    },
    {
     "name": "stderr",
     "output_type": "stream",
     "text": [
      "[I 2018-12-22 16:20:53,053] Finished a trial resulted in value: 0.1895629492872526. Current best value is 0.1826291778344521 with parameters: {'n_estimators': 962, 'feature1': 0, 'feature2': 1, 'feature3': 0, 'feature4': 1, 'feature5': 0, 'feature6': 1, 'feature7': 1, 'feature8': 0}.\n"
     ]
    },
    {
     "name": "stdout",
     "output_type": "stream",
     "text": [
      "lightgbm model (n_estimators=99.000000):\n",
      "feature_selection_vector [True, False, False, False, False, False, False, True]\n",
      "train mean accuracy: 0.7496380397406093\n",
      "test mean accuracy: 0.605221738605017\n"
     ]
    },
    {
     "name": "stderr",
     "output_type": "stream",
     "text": [
      "[I 2018-12-22 16:20:53,588] Finished a trial resulted in value: 0.39477826139498295. Current best value is 0.1826291778344521 with parameters: {'n_estimators': 962, 'feature1': 0, 'feature2': 1, 'feature3': 0, 'feature4': 1, 'feature5': 0, 'feature6': 1, 'feature7': 1, 'feature8': 0}.\n"
     ]
    },
    {
     "name": "stdout",
     "output_type": "stream",
     "text": [
      "lightgbm model (n_estimators=825.000000):\n",
      "feature_selection_vector [True, False, False, False, True, True, False, True]\n",
      "train mean accuracy: 0.9424141386340683\n",
      "test mean accuracy: 0.5743934120020425\n"
     ]
    },
    {
     "name": "stderr",
     "output_type": "stream",
     "text": [
      "[I 2018-12-22 16:20:56,136] Finished a trial resulted in value: 0.4256065879979575. Current best value is 0.1826291778344521 with parameters: {'n_estimators': 962, 'feature1': 0, 'feature2': 1, 'feature3': 0, 'feature4': 1, 'feature5': 0, 'feature6': 1, 'feature7': 1, 'feature8': 0}.\n"
     ]
    },
    {
     "name": "stdout",
     "output_type": "stream",
     "text": [
      "lightgbm model (n_estimators=185.000000):\n",
      "feature_selection_vector [True, True, False, False, True, False, True, False]\n",
      "train mean accuracy: 0.9462744087325816\n",
      "test mean accuracy: 0.7766332558660997\n"
     ]
    },
    {
     "name": "stderr",
     "output_type": "stream",
     "text": [
      "[I 2018-12-22 16:20:56,847] Finished a trial resulted in value: 0.22336674413390034. Current best value is 0.1826291778344521 with parameters: {'n_estimators': 962, 'feature1': 0, 'feature2': 1, 'feature3': 0, 'feature4': 1, 'feature5': 0, 'feature6': 1, 'feature7': 1, 'feature8': 0}.\n"
     ]
    },
    {
     "name": "stdout",
     "output_type": "stream",
     "text": [
      "lightgbm model (n_estimators=129.000000):\n",
      "feature_selection_vector [False, False, False, False, True, False, False, False]\n",
      "train mean accuracy: 0.6516839678598093\n",
      "test mean accuracy: 0.6516624719801226\n"
     ]
    },
    {
     "name": "stderr",
     "output_type": "stream",
     "text": [
      "[I 2018-12-22 16:20:57,367] Finished a trial resulted in value: 0.3483375280198774. Current best value is 0.1826291778344521 with parameters: {'n_estimators': 962, 'feature1': 0, 'feature2': 1, 'feature3': 0, 'feature4': 1, 'feature5': 0, 'feature6': 1, 'feature7': 1, 'feature8': 0}.\n"
     ]
    },
    {
     "name": "stdout",
     "output_type": "stream",
     "text": [
      "lightgbm model (n_estimators=615.000000):\n",
      "feature_selection_vector [True, True, True, True, True, True, True, True]\n",
      "train mean accuracy: 0.9961372632779861\n",
      "test mean accuracy: 0.7612091035525258\n"
     ]
    },
    {
     "name": "stderr",
     "output_type": "stream",
     "text": [
      "[I 2018-12-22 16:21:00,854] Finished a trial resulted in value: 0.2387908964474742. Current best value is 0.1826291778344521 with parameters: {'n_estimators': 962, 'feature1': 0, 'feature2': 1, 'feature3': 0, 'feature4': 1, 'feature5': 0, 'feature6': 1, 'feature7': 1, 'feature8': 0}.\n"
     ]
    },
    {
     "name": "stdout",
     "output_type": "stream",
     "text": [
      "lightgbm model (n_estimators=994.000000):\n",
      "feature_selection_vector [True, True, False, False, False, False, False, False]\n",
      "train mean accuracy: 0.8490140919906931\n",
      "test mean accuracy: 0.5882209988592967\n"
     ]
    },
    {
     "name": "stderr",
     "output_type": "stream",
     "text": [
      "[I 2018-12-22 16:21:03,859] Finished a trial resulted in value: 0.4117790011407033. Current best value is 0.1826291778344521 with parameters: {'n_estimators': 962, 'feature1': 0, 'feature2': 1, 'feature3': 0, 'feature4': 1, 'feature5': 0, 'feature6': 1, 'feature7': 1, 'feature8': 0}.\n"
     ]
    },
    {
     "name": "stdout",
     "output_type": "stream",
     "text": [
      "lightgbm model (n_estimators=889.000000):\n",
      "feature_selection_vector [True, False, False, False, False, True, False, False]\n",
      "train mean accuracy: 0.8082820717887873\n",
      "test mean accuracy: 0.5685810643257453\n"
     ]
    },
    {
     "name": "stderr",
     "output_type": "stream",
     "text": [
      "[I 2018-12-22 16:21:07,777] Finished a trial resulted in value: 0.4314189356742547. Current best value is 0.1826291778344521 with parameters: {'n_estimators': 962, 'feature1': 0, 'feature2': 1, 'feature3': 0, 'feature4': 1, 'feature5': 0, 'feature6': 1, 'feature7': 1, 'feature8': 0}.\n"
     ]
    },
    {
     "name": "stdout",
     "output_type": "stream",
     "text": [
      "FrozenTrial(trial_id=28, state=<TrialState.COMPLETE: 1>, value=0.1826291778344521, datetime_start=datetime.datetime(2018, 12, 22, 16, 19, 37, 471381), datetime_complete=datetime.datetime(2018, 12, 22, 16, 19, 39, 593041), params={'n_estimators': 962, 'feature1': 0, 'feature2': 1, 'feature3': 0, 'feature4': 1, 'feature5': 0, 'feature6': 1, 'feature7': 1, 'feature8': 0}, user_attrs={}, system_attrs={}, intermediate_values={}, params_in_internal_repr={'n_estimators': 962, 'feature1': 0, 'feature2': 1, 'feature3': 0, 'feature4': 1, 'feature5': 0, 'feature6': 1, 'feature7': 1, 'feature8': 0})\n"
     ]
    }
   ],
   "source": [
    "import optuna\n",
    "import mlflow\n",
    "from optuna.samplers import RandomSampler\n",
    "\n",
    "sampler = RandomSampler(seed=10)\n",
    "\n",
    "tracking_uri = \"../mlruns\"\n",
    "mlflow.set_tracking_uri(tracking_uri)\n",
    "\n",
    "experiment_name = \"n_estimators+feature_selection\"\n",
    "mlflow.set_experiment(experiment_name)\n",
    "\n",
    "study = optuna.create_study(sampler = sampler)\n",
    "study.optimize(objective, n_trials=100)\n",
    "print(study.best_trial)"
   ]
  },
  {
   "cell_type": "code",
   "execution_count": null,
   "metadata": {},
   "outputs": [],
   "source": []
  }
 ],
 "metadata": {
  "kernelspec": {
   "display_name": "Python 3",
   "language": "python",
   "name": "python3"
  },
  "language_info": {
   "codemirror_mode": {
    "name": "ipython",
    "version": 3
   },
   "file_extension": ".py",
   "mimetype": "text/x-python",
   "name": "python",
   "nbconvert_exporter": "python",
   "pygments_lexer": "ipython3",
   "version": "3.6.7"
  }
 },
 "nbformat": 4,
 "nbformat_minor": 2
}
